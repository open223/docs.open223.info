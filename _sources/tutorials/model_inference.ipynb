{
 "cells": [
  {
   "cell_type": "markdown",
   "id": "307fc5d8",
   "metadata": {},
   "source": [
    "(model-inference)=\n",
    "# Model Inference\n",
    "\n",
    "```{note}\n",
    "The purpose of this tutorial is to show how SHACL inference applied to a 223 model can\n",
    "make models easier to write and query. Specifically, this tutorial will teach the following:\n",
    "1. How to load SHACL inference rules defined in the 223 ontology into memory\n",
    "2. How to apply SHACL inference rules to a 223 model to add all \"implied\" triples\n",
    "```\n",
    "\n",
    "For this tutorial, we'll use an existing equipment model of a variable air volume (VAV) terminal unit with cooling only from section 4.1 of ASHRAE Guideline 36-2021.\n",
    "This and other example models are available from [Open223 Models](open223-resources).\n",
    "\n",
    "## What are SHACL Rules?\n",
    "\n",
    "[SHACL rules](https://www.w3.org/TR/shacl-af/#rules) add implied information to graphs if certain conditions are met, i.e. if certain triples exist in the source graph.\n",
    "The process of applying rules to an input model to generate new information (triples) is called *inference*.\n",
    "Inference makes models easier to write because the model author does not have to manually include all the triples necessary to support the desired queries;\n",
    "instead, some of those useful triples can be added \"automatically\" to the model through the use of inferencing.\n",
    "One way to think of inference is a way of normalizing a 223 model.\n",
    "Inference assures that the expected properties, types, and other annotations are present so that consumers of the model can make assumptions about what information will be contained within the graph.\n",
    "\n",
    "## Model Parsing\n",
    "\n",
    "First, we'll create a new empty graph then parse (load) an existing graph into it using the Python RDFLib library."
   ]
  },
  {
   "cell_type": "code",
   "execution_count": 1,
   "id": "c934d38b",
   "metadata": {},
   "outputs": [
    {
     "name": "stdout",
     "output_type": "stream",
     "text": [
      "The model contains 101 triples\n"
     ]
    }
   ],
   "source": [
    "from rdflib import Graph\n",
    "# Create a Graph\n",
    "model = Graph()\n",
    "# Parse in an RDF file hosted on the Internet\n",
    "model.parse(\"https://models.open223.info/guideline36-2021-A-1.ttl\", format=\"ttl\")\n",
    "print(f\"The model contains {len(model)} triples\")"
   ]
  },
  {
   "cell_type": "markdown",
   "id": "eb7d3b1f",
   "metadata": {},
   "source": [
    "<details>\n",
    "<summary>Turtle representation of the model (pre-inference)</summary>"
   ]
  },
  {
   "cell_type": "code",
   "execution_count": 2,
   "id": "dfa7ee00",
   "metadata": {},
   "outputs": [
    {
     "name": "stdout",
     "output_type": "stream",
     "text": [
      "@prefix g36: <http://data.ashrae.org/standard223/1.0/extensions/g36#> .\n",
      "@prefix mysystem1: <http://data.ashrae.org/standard223/1.0/data/guideline36-2021-A-1#> .\n",
      "@prefix owl: <http://www.w3.org/2002/07/owl#> .\n",
      "@prefix qudt: <http://qudt.org/schema/qudt/> .\n",
      "@prefix qudtqk: <http://qudt.org/vocab/quantitykind/> .\n",
      "@prefix rdfs: <http://www.w3.org/2000/01/rdf-schema#> .\n",
      "@prefix s223: <http://data.ashrae.org/standard223#> .\n",
      "@prefix unit: <http://qudt.org/vocab/unit/> .\n",
      "\n",
      "mysystem1: a owl:Ontology ;\n",
      "    rdfs:label \"\" ;\n",
      "    owl:imports <http://data.ashrae.org/standard223/1.0/model/all> .\n",
      "\n",
      "mysystem1:PhysicalSpace a s223:PhysicalSpace ;\n",
      "    rdfs:label \"Physicalspace\" ;\n",
      "    s223:encloses mysystem1:PhysicalSpace-hvac-domain .\n",
      "\n",
      "mysystem1:VAVCoolingOnly a s223:SingleDuctTerminal,\n",
      "        g36:VAV ;\n",
      "    rdfs:label \"Vavcoolingonly\" ;\n",
      "    s223:cnx mysystem1:VAVCoolingOnly-in,\n",
      "        mysystem1:VAVCoolingOnly-out ;\n",
      "    s223:contains mysystem1:VAVCoolingOnly-damper .\n",
      "\n",
      "mysystem1:VAVCoolingOnly-damper-actuator a s223:Actuator ;\n",
      "    rdfs:label \"Vavcoolingonly Damper Actuator\" ;\n",
      "    s223:actuatedByProperty mysystem1:VAVCoolingOnly-damper-command ;\n",
      "    s223:actuates mysystem1:VAVCoolingOnly-damper .\n",
      "\n",
      "mysystem1:VAVCoolingOnly-discharge-air-flow-sensor a s223:Sensor ;\n",
      "    rdfs:label \"Vavcoolingonly Discharge Air Flow Sensor\" ;\n",
      "    s223:hasObservationLocation mysystem1:VAVCoolingOnly-out ;\n",
      "    s223:observes mysystem1:VAVCoolingOnly-discharge-air-flow .\n",
      "\n",
      "mysystem1:VAVCoolingOnly-duct-after-damper a s223:Connection,\n",
      "        s223:Duct ;\n",
      "    rdfs:label \"Vavcoolingonly Duct After Damper\" ;\n",
      "    s223:hasMedium s223:Fluid-Air .\n",
      "\n",
      "mysystem1:VAVCoolingOnly-duct-before-damper a s223:Connection,\n",
      "        s223:Duct ;\n",
      "    rdfs:label \"Vavcoolingonly Duct Before Damper\" ;\n",
      "    s223:hasMedium s223:Fluid-Air .\n",
      "\n",
      "mysystem1:zone a s223:Zone,\n",
      "        g36:Zone ;\n",
      "    rdfs:label \"Zone\" ;\n",
      "    s223:hasDomain s223:Domain-HVAC ;\n",
      "    s223:hasDomainSpace mysystem1:PhysicalSpace-hvac-domain ;\n",
      "    s223:hasProperty mysystem1:zone-co2-concentration,\n",
      "        mysystem1:zone-temp .\n",
      "\n",
      "mysystem1:PhysicalSpace-hvac-domain-in a s223:InletConnectionPoint ;\n",
      "    rdfs:label \"Physicalspace Hvac Domain In\" ;\n",
      "    s223:cnx mysystem1:vav-supply-to-room-connection ;\n",
      "    s223:hasMedium s223:Fluid-Air .\n",
      "\n",
      "mysystem1:PhysicalSpace-hvac-domain-out a s223:OutletConnectionPoint ;\n",
      "    rdfs:label \"Physicalspace Hvac Domain Out\" ;\n",
      "    s223:cnx mysystem1:room-return-to-vav-connection ;\n",
      "    s223:hasMedium s223:Fluid-Air .\n",
      "\n",
      "mysystem1:VAVCoolingOnly-damper-in a s223:InletConnectionPoint ;\n",
      "    rdfs:label \"Vavcoolingonly Damper In\" ;\n",
      "    s223:hasMedium s223:Fluid-Air ;\n",
      "    s223:mapsTo mysystem1:VAVCoolingOnly-in .\n",
      "\n",
      "mysystem1:VAVCoolingOnly-damper-out a s223:OutletConnectionPoint ;\n",
      "    rdfs:label \"Vavcoolingonly Damper Out\" ;\n",
      "    s223:hasMedium s223:Fluid-Air ;\n",
      "    s223:mapsTo mysystem1:VAVCoolingOnly-out .\n",
      "\n",
      "mysystem1:VAVCoolingOnly-damper-position a s223:QuantifiableObservableProperty ;\n",
      "    rdfs:label \"Vavcoolingonly Damper Position\" ;\n",
      "    qudt:hasQuantityKind qudtqk:DimensionlessRatio ;\n",
      "    qudt:hasUnit unit:PERCENT .\n",
      "\n",
      "mysystem1:zone-co2-concentration a s223:QuantifiableObservableProperty ;\n",
      "    rdfs:label \"Zone Co2 Concentration\" ;\n",
      "    s223:ofSubstance s223:Constituent-CO2 ;\n",
      "    qudt:hasQuantityKind qudtqk:MoleFraction ;\n",
      "    qudt:hasUnit unit:PPM .\n",
      "\n",
      "mysystem1:zone-temp a s223:QuantifiableObservableProperty ;\n",
      "    rdfs:label \"Zone Temp\" ;\n",
      "    qudt:hasQuantityKind qudtqk:Temperature ;\n",
      "    qudt:hasUnit unit:DEG_C .\n",
      "\n",
      "mysystem1:PhysicalSpace-hvac-domain a s223:DomainSpace ;\n",
      "    rdfs:label \"Physicalspace Hvac Domain\" ;\n",
      "    s223:cnx mysystem1:PhysicalSpace-hvac-domain-in,\n",
      "        mysystem1:PhysicalSpace-hvac-domain-out ;\n",
      "    s223:hasDomain s223:Domain-HVAC .\n",
      "\n",
      "mysystem1:VAVCoolingOnly-damper a s223:Damper,\n",
      "        g36:Damper ;\n",
      "    rdfs:label \"Vavcoolingonly Damper\" ;\n",
      "    s223:cnx mysystem1:VAVCoolingOnly-damper-in,\n",
      "        mysystem1:VAVCoolingOnly-damper-out ;\n",
      "    s223:hasProperty mysystem1:VAVCoolingOnly-damper-command,\n",
      "        mysystem1:VAVCoolingOnly-damper-position .\n",
      "\n",
      "mysystem1:VAVCoolingOnly-damper-command a s223:QuantifiableActuatableProperty ;\n",
      "    rdfs:label \"Vavcoolingonly Damper Command\" ;\n",
      "    s223:hasAspect s223:EnumerationKind-Position ;\n",
      "    qudt:hasQuantityKind qudtqk:DimensionlessRatio ;\n",
      "    qudt:hasUnit unit:PERCENT .\n",
      "\n",
      "mysystem1:VAVCoolingOnly-discharge-air-flow a s223:QuantifiableObservableProperty ;\n",
      "    rdfs:label \"Vavcoolingonly Discharge Air Flow\" ;\n",
      "    s223:hasAspect s223:Role-Discharge ;\n",
      "    qudt:hasQuantityKind qudtqk:VolumeFlowRate ;\n",
      "    qudt:hasUnit unit:FT3-PER-MIN .\n",
      "\n",
      "mysystem1:VAVCoolingOnly-in a s223:InletConnectionPoint ;\n",
      "    rdfs:label \"Vavcoolingonly In\" ;\n",
      "    s223:cnx mysystem1:room-return-to-vav-connection ;\n",
      "    s223:hasMedium s223:Fluid-Air .\n",
      "\n",
      "mysystem1:room-return-to-vav-connection a s223:Connection ;\n",
      "    rdfs:label \"Room Return To Vav Connection\" ;\n",
      "    s223:hasMedium s223:Fluid-Air .\n",
      "\n",
      "mysystem1:vav-supply-to-room-connection a s223:Connection ;\n",
      "    rdfs:label \"Vav Supply To Room Connection\" ;\n",
      "    s223:hasMedium s223:Fluid-Air .\n",
      "\n",
      "mysystem1:VAVCoolingOnly-out a s223:OutletConnectionPoint ;\n",
      "    rdfs:label \"Vavcoolingonly Out\" ;\n",
      "    s223:cnx mysystem1:vav-supply-to-room-connection ;\n",
      "    s223:hasMedium s223:Fluid-Air ;\n",
      "    s223:hasProperty mysystem1:VAVCoolingOnly-discharge-air-flow .\n",
      "\n",
      "\n"
     ]
    }
   ],
   "source": [
    "print(model.serialize())"
   ]
  },
  {
   "cell_type": "markdown",
   "id": "214d763b",
   "metadata": {},
   "source": [
    "</details>\n",
    "\n",
    "### Testing the Model (Failed Query)\n",
    "\n",
    "Below, we try to run a simple query on our model which asks what the terminal unit is connected to.\n",
    "The `s223:connected` relationship does not exist in the pre-inference model, so this query will not return results."
   ]
  },
  {
   "cell_type": "code",
   "execution_count": 3,
   "id": "4679cae8",
   "metadata": {},
   "outputs": [],
   "source": [
    "parts_query = \"\"\"\n",
    "PREFIX bldg: <http://data.ashrae.org/standard223/1.0/data/guideline36-2021-A-1#>\n",
    "PREFIX s223: <http://data.ashrae.org/standard223#>\n",
    "SELECT ?physical_space WHERE {\n",
    "    bldg:VAVCoolingOnly s223:connected ?physical_space .\n",
    "}\"\"\"\n",
    "\n",
    "for row in model.query(parts_query):\n",
    "    print('\\t'.join(row))"
   ]
  },
  {
   "cell_type": "markdown",
   "id": "95164121",
   "metadata": {},
   "source": [
    "## Loading the 223 Ontology\n",
    "\n",
    "The 223 ontology contains the rules we will use for inference.\n",
    "We will load the 223 ontology into a separate graph from the model.\n",
    "This is mostly for maintenance: it is easy enough to merge two graphs together into one, but it is much harder to factor them out again.\n",
    "By keeping the ontology graph separate from the model graph, we can more easily maintain and version those graphs individually."
   ]
  },
  {
   "cell_type": "code",
   "execution_count": 4,
   "id": "d1191ad3",
   "metadata": {},
   "outputs": [
    {
     "data": {
      "text/plain": [
       "<Graph identifier=Na819e6a9a8fa4a1ba6b5ff305fbf8021 (<class 'rdflib.graph.Graph'>)>"
      ]
     },
     "execution_count": 4,
     "metadata": {},
     "output_type": "execute_result"
    }
   ],
   "source": [
    "from rdflib import Graph\n",
    "# Create a Graph\n",
    "s223 = Graph()\n",
    "# Parse in a recent copy of the 223 ontology\n",
    "s223.parse(\"https://query.open223.info/ontologies/223p.ttl\")"
   ]
  },
  {
   "cell_type": "markdown",
   "id": "431a83fd",
   "metadata": {},
   "source": [
    "## Applying Inference Rules\n",
    "\n",
    "To apply inference rules, we need an *inference engine*.\n",
    "This is a piece of software which knows how to properly interpret and apply the SHACL rules defined in an ontology.\n",
    "There are multiple closed-source and open-source implementations of SHACL available; some of these are listed on [this page](other-resources)\n",
    "Below, we will be using the open-source [PySHACL](https://github.com/RDFLib/pySHACL) library.\n",
    "\n",
    "We import the PySHACL library and then invoke the `validate` function on our model graph (*data graph* in PySHACL parlance)\n",
    "and our 223 graph (*shape graph* in PySHACL parlance)."
   ]
  },
  {
   "cell_type": "code",
   "execution_count": 5,
   "id": "2ca73ada",
   "metadata": {},
   "outputs": [
    {
     "name": "stderr",
     "output_type": "stream",
     "text": [
      "Exception ignored in: <bound method IPythonKernel._clean_thread_parent_frames of <ipykernel.ipkernel.IPythonKernel object at 0x7fd2712b96a0>>\n",
      "Traceback (most recent call last):\n",
      "  File \"/home/runner/work/docs.open223.info/docs.open223.info/.venv/lib/python3.12/site-packages/ipykernel/ipkernel.py\", line 781, in _clean_thread_parent_frames\n",
      "    def _clean_thread_parent_frames(\n",
      "\n",
      "KeyboardInterrupt: \n"
     ]
    }
   ],
   "source": [
    "import pyshacl\n",
    "\n",
    "combined = model+s223\n",
    "for _ in range(5):\n",
    "    pyshacl.validate(combined,\n",
    "        allow_infos=True,     # don't fail if we get an INFO message\n",
    "        allow_warnings=True,  # don't fail if we get a WARNING message\n",
    "        abort_on_first=False, # allow errors to happen during execution\n",
    "        advanced=True,        # allow SHACL rules to execute\n",
    "        iterate_rules=True,  # allow rules to be applied multiple times\n",
    "        inplace=True          # update the 'model' object with the inferred triples\n",
    "    )\n",
    "# remove the s223 graph from the model\n",
    "model = combined - s223\n",
    "print(f\"The model now contains {len(model)} triples\")"
   ]
  },
  {
   "cell_type": "markdown",
   "id": "9a497407",
   "metadata": {},
   "source": [
    "This may take a few minutes to run, depending on the size of your model.\n",
    "If the PySHACL library is too slow, we recommend looking at alternate open-source implementations\n",
    "like [TopQuadrant's Java-based implementation](https://github.com/TopQuadrant/shacl).\n",
    "\n",
    "We can see from the print statement that several triples have been added to the model.\n",
    "\n",
    "```{note}\n",
    "The `pyshacl.validate` function actually returns a SHACL validation report which can be used to fix\n",
    "the model and make it compatible with the 223 ontology. See the [Model Validation](model_validation)\n",
    "tutorial for how to access and interpret this report.\n",
    "```\n",
    "\n",
    "<details>\n",
    "<summary>Turtle representation of the model (post-inference)</summary>"
   ]
  },
  {
   "cell_type": "code",
   "execution_count": null,
   "id": "2df103ad",
   "metadata": {},
   "outputs": [],
   "source": [
    "print(model.serialize())"
   ]
  },
  {
   "cell_type": "markdown",
   "id": "8921d8d4",
   "metadata": {},
   "source": [
    "</details>\n",
    "\n",
    "## Using the New Model\n",
    "\n",
    "To demonstrate that the model contains new triples, we can try re-running the query from before.\n",
    "We can see that the query returns results this time."
   ]
  },
  {
   "cell_type": "code",
   "execution_count": null,
   "id": "fb7b0ac2",
   "metadata": {},
   "outputs": [],
   "source": [
    "query = \"\"\"\n",
    "PREFIX bldg: <http://data.ashrae.org/standard223/1.0/data/guideline36-2021-A-1#>\n",
    "PREFIX s223: <http://data.ashrae.org/standard223#>\n",
    "SELECT ?physical_space WHERE {\n",
    "    bldg:VAVCoolingOnly s223:connected ?physical_space .\n",
    "}\"\"\"\n",
    "\n",
    "for row in model.query(query):\n",
    "    print('\\t'.join(row))"
   ]
  }
 ],
 "metadata": {
  "jupytext": {
   "cell_metadata_filter": "-all",
   "formats": "md:myst",
   "text_representation": {
    "extension": ".md",
    "format_name": "myst"
   }
  },
  "kernelspec": {
   "display_name": "open223-book",
   "language": "python",
   "name": "open223-book"
  },
  "language_info": {
   "codemirror_mode": {
    "name": "ipython",
    "version": 3
   },
   "file_extension": ".py",
   "mimetype": "text/x-python",
   "name": "python",
   "nbconvert_exporter": "python",
   "pygments_lexer": "ipython3",
   "version": "3.12.3"
  },
  "source_map": [
   12,
   39,
   46,
   51,
   53,
   62,
   72,
   81,
   87,
   99,
   115,
   132,
   134,
   143
  ]
 },
 "nbformat": 4,
 "nbformat_minor": 5
}