{
 "cells": [
  {
   "cell_type": "markdown",
   "id": "5a8675af",
   "metadata": {},
   "source": [
    "(model-inference)=\n",
    "# Model Inference\n",
    "\n",
    "```{note}\n",
    "The purpose of this tutorial is to show how SHACL inference applied to a 223 model can\n",
    "make models easier to write and query. Specifically, this tutorial will teach the following:\n",
    "1. How to load SHACL inference rules defined in the 223 ontology into memory\n",
    "2. How to apply SHACL inference rules to a 223 model to add all \"implied\" triples\n",
    "```\n",
    "\n",
    "For this tutorial, we'll use an existing equipment model of a variable air volume (VAV) terminal unit with cooling only from section 4.1 of ASHRAE Guideline 36-2021.\n",
    "This and other example models are available from [Open223 Models](open223-resources).\n",
    "\n",
    "## What are SHACL Rules?\n",
    "\n",
    "[SHACL rules](https://www.w3.org/TR/shacl-af/#rules) add implied information to graphs if certain conditions are met, i.e. if certain triples exist in the source graph.\n",
    "The process of applying rules to an input model to generate new information (triples) is called *inference*.\n",
    "Inference makes models easier to write because the model author does not have to manually include all the triples necessary to support the desired queries;\n",
    "instead, some of those useful triples can be added \"automatically\" to the model through the use of inferencing.\n",
    "One way to think of inference is a way of normalizing a 223 model.\n",
    "Inference assures that the expected properties, types, and other annotations are present so that consumers of the model can make assumptions about what information will be contained within the graph.\n",
    "\n",
    "## Model Parsing\n",
    "\n",
    "First, we'll create a new empty graph then parse (load) an existing graph into it using the Python RDFLib library."
   ]
  },
  {
   "cell_type": "code",
   "execution_count": 1,
   "id": "f78cc83e",
   "metadata": {},
   "outputs": [
    {
     "name": "stdout",
     "output_type": "stream",
     "text": [
      "The model contains 101 triples\n"
     ]
    }
   ],
   "source": [
    "from rdflib import Graph\n",
    "# Create a Graph\n",
    "model = Graph()\n",
    "# Parse in an RDF file hosted on the Internet\n",
    "model.parse(\"https://models.open223.info/guideline36-2021-A-1.ttl\", format=\"ttl\")\n",
    "print(f\"The model contains {len(model)} triples\")"
   ]
  },
  {
   "cell_type": "markdown",
   "id": "0fae523b",
   "metadata": {},
   "source": [
    "<details>\n",
    "<summary>Turtle representation of the model (pre-inference)</summary>"
   ]
  },
  {
   "cell_type": "code",
   "execution_count": 2,
   "id": "e897b9c3",
   "metadata": {},
   "outputs": [
    {
     "name": "stdout",
     "output_type": "stream",
     "text": [
      "@prefix g36: <http://data.ashrae.org/standard223/1.0/extensions/g36#> .\n",
      "@prefix mysystem1: <http://data.ashrae.org/standard223/1.0/data/guideline36-2021-A-1#> .\n",
      "@prefix owl: <http://www.w3.org/2002/07/owl#> .\n",
      "@prefix qudt: <http://qudt.org/schema/qudt/> .\n",
      "@prefix qudtqk: <http://qudt.org/vocab/quantitykind/> .\n",
      "@prefix rdfs: <http://www.w3.org/2000/01/rdf-schema#> .\n",
      "@prefix s223: <http://data.ashrae.org/standard223#> .\n",
      "@prefix unit: <http://qudt.org/vocab/unit/> .\n",
      "\n",
      "mysystem1: a owl:Ontology ;\n",
      "    rdfs:label \"\" ;\n",
      "    owl:imports <http://data.ashrae.org/standard223/1.0/model/all> .\n",
      "\n",
      "mysystem1:PhysicalSpace a s223:PhysicalSpace ;\n",
      "    rdfs:label \"Physicalspace\" ;\n",
      "    s223:encloses mysystem1:PhysicalSpace-hvac-domain .\n",
      "\n",
      "mysystem1:VAVCoolingOnly a s223:SingleDuctTerminal,\n",
      "        g36:VAV ;\n",
      "    rdfs:label \"Vavcoolingonly\" ;\n",
      "    s223:cnx mysystem1:VAVCoolingOnly-in,\n",
      "        mysystem1:VAVCoolingOnly-out ;\n",
      "    s223:contains mysystem1:VAVCoolingOnly-damper .\n",
      "\n",
      "mysystem1:VAVCoolingOnly-damper-actuator a s223:Actuator ;\n",
      "    rdfs:label \"Vavcoolingonly Damper Actuator\" ;\n",
      "    s223:actuatedByProperty mysystem1:VAVCoolingOnly-damper-command ;\n",
      "    s223:actuates mysystem1:VAVCoolingOnly-damper .\n",
      "\n",
      "mysystem1:VAVCoolingOnly-discharge-air-flow-sensor a s223:Sensor ;\n",
      "    rdfs:label \"Vavcoolingonly Discharge Air Flow Sensor\" ;\n",
      "    s223:hasObservationLocation mysystem1:VAVCoolingOnly-out ;\n",
      "    s223:observes mysystem1:VAVCoolingOnly-discharge-air-flow .\n",
      "\n",
      "mysystem1:VAVCoolingOnly-duct-after-damper a s223:Connection,\n",
      "        s223:Duct ;\n",
      "    rdfs:label \"Vavcoolingonly Duct After Damper\" ;\n",
      "    s223:hasMedium s223:Fluid-Air .\n",
      "\n",
      "mysystem1:VAVCoolingOnly-duct-before-damper a s223:Connection,\n",
      "        s223:Duct ;\n",
      "    rdfs:label \"Vavcoolingonly Duct Before Damper\" ;\n",
      "    s223:hasMedium s223:Fluid-Air .\n",
      "\n",
      "mysystem1:zone a s223:Zone,\n",
      "        g36:Zone ;\n",
      "    rdfs:label \"Zone\" ;\n",
      "    s223:hasDomain s223:Domain-HVAC ;\n",
      "    s223:hasDomainSpace mysystem1:PhysicalSpace-hvac-domain ;\n",
      "    s223:hasProperty mysystem1:zone-co2-concentration,\n",
      "        mysystem1:zone-temp .\n",
      "\n",
      "mysystem1:PhysicalSpace-hvac-domain-in a s223:InletConnectionPoint ;\n",
      "    rdfs:label \"Physicalspace Hvac Domain In\" ;\n",
      "    s223:cnx mysystem1:vav-supply-to-room-connection ;\n",
      "    s223:hasMedium s223:Fluid-Air .\n",
      "\n",
      "mysystem1:PhysicalSpace-hvac-domain-out a s223:OutletConnectionPoint ;\n",
      "    rdfs:label \"Physicalspace Hvac Domain Out\" ;\n",
      "    s223:cnx mysystem1:room-return-to-vav-connection ;\n",
      "    s223:hasMedium s223:Fluid-Air .\n",
      "\n",
      "mysystem1:VAVCoolingOnly-damper-in a s223:InletConnectionPoint ;\n",
      "    rdfs:label \"Vavcoolingonly Damper In\" ;\n",
      "    s223:hasMedium s223:Fluid-Air ;\n",
      "    s223:mapsTo mysystem1:VAVCoolingOnly-in .\n",
      "\n",
      "mysystem1:VAVCoolingOnly-damper-out a s223:OutletConnectionPoint ;\n",
      "    rdfs:label \"Vavcoolingonly Damper Out\" ;\n",
      "    s223:hasMedium s223:Fluid-Air ;\n",
      "    s223:mapsTo mysystem1:VAVCoolingOnly-out .\n",
      "\n",
      "mysystem1:VAVCoolingOnly-damper-position a s223:QuantifiableObservableProperty ;\n",
      "    rdfs:label \"Vavcoolingonly Damper Position\" ;\n",
      "    qudt:hasQuantityKind qudtqk:DimensionlessRatio ;\n",
      "    qudt:hasUnit unit:PERCENT .\n",
      "\n",
      "mysystem1:zone-co2-concentration a s223:QuantifiableObservableProperty ;\n",
      "    rdfs:label \"Zone Co2 Concentration\" ;\n",
      "    s223:ofSubstance s223:Constituent-CO2 ;\n",
      "    qudt:hasQuantityKind qudtqk:MoleFraction ;\n",
      "    qudt:hasUnit unit:PPM .\n",
      "\n",
      "mysystem1:zone-temp a s223:QuantifiableObservableProperty ;\n",
      "    rdfs:label \"Zone Temp\" ;\n",
      "    qudt:hasQuantityKind qudtqk:Temperature ;\n",
      "    qudt:hasUnit unit:DEG_C .\n",
      "\n",
      "mysystem1:PhysicalSpace-hvac-domain a s223:DomainSpace ;\n",
      "    rdfs:label \"Physicalspace Hvac Domain\" ;\n",
      "    s223:cnx mysystem1:PhysicalSpace-hvac-domain-in,\n",
      "        mysystem1:PhysicalSpace-hvac-domain-out ;\n",
      "    s223:hasDomain s223:Domain-HVAC .\n",
      "\n",
      "mysystem1:VAVCoolingOnly-damper a s223:Damper,\n",
      "        g36:Damper ;\n",
      "    rdfs:label \"Vavcoolingonly Damper\" ;\n",
      "    s223:cnx mysystem1:VAVCoolingOnly-damper-in,\n",
      "        mysystem1:VAVCoolingOnly-damper-out ;\n",
      "    s223:hasProperty mysystem1:VAVCoolingOnly-damper-command,\n",
      "        mysystem1:VAVCoolingOnly-damper-position .\n",
      "\n",
      "mysystem1:VAVCoolingOnly-damper-command a s223:QuantifiableActuatableProperty ;\n",
      "    rdfs:label \"Vavcoolingonly Damper Command\" ;\n",
      "    s223:hasAspect s223:EnumerationKind-Position ;\n",
      "    qudt:hasQuantityKind qudtqk:DimensionlessRatio ;\n",
      "    qudt:hasUnit unit:PERCENT .\n",
      "\n",
      "mysystem1:VAVCoolingOnly-discharge-air-flow a s223:QuantifiableObservableProperty ;\n",
      "    rdfs:label \"Vavcoolingonly Discharge Air Flow\" ;\n",
      "    s223:hasAspect s223:Role-Discharge ;\n",
      "    qudt:hasQuantityKind qudtqk:VolumeFlowRate ;\n",
      "    qudt:hasUnit unit:FT3-PER-MIN .\n",
      "\n",
      "mysystem1:VAVCoolingOnly-in a s223:InletConnectionPoint ;\n",
      "    rdfs:label \"Vavcoolingonly In\" ;\n",
      "    s223:cnx mysystem1:room-return-to-vav-connection ;\n",
      "    s223:hasMedium s223:Fluid-Air .\n",
      "\n",
      "mysystem1:room-return-to-vav-connection a s223:Connection ;\n",
      "    rdfs:label \"Room Return To Vav Connection\" ;\n",
      "    s223:hasMedium s223:Fluid-Air .\n",
      "\n",
      "mysystem1:vav-supply-to-room-connection a s223:Connection ;\n",
      "    rdfs:label \"Vav Supply To Room Connection\" ;\n",
      "    s223:hasMedium s223:Fluid-Air .\n",
      "\n",
      "mysystem1:VAVCoolingOnly-out a s223:OutletConnectionPoint ;\n",
      "    rdfs:label \"Vavcoolingonly Out\" ;\n",
      "    s223:cnx mysystem1:vav-supply-to-room-connection ;\n",
      "    s223:hasMedium s223:Fluid-Air ;\n",
      "    s223:hasProperty mysystem1:VAVCoolingOnly-discharge-air-flow .\n",
      "\n",
      "\n"
     ]
    }
   ],
   "source": [
    "print(model.serialize())"
   ]
  },
  {
   "cell_type": "markdown",
   "id": "eadaac85",
   "metadata": {},
   "source": [
    "</details>\n",
    "\n",
    "### Testing the Model (Failed Query)\n",
    "\n",
    "Below, we try to run a simple query on our model which asks what the terminal unit is connected to.\n",
    "The `s223:connected` relationship does not exist in the pre-inference model, so this query will not return results."
   ]
  },
  {
   "cell_type": "code",
   "execution_count": 3,
   "id": "b09bbb0f",
   "metadata": {},
   "outputs": [],
   "source": [
    "parts_query = \"\"\"\n",
    "PREFIX bldg: <http://data.ashrae.org/standard223/1.0/data/guideline36-2021-A-1#>\n",
    "PREFIX s223: <http://data.ashrae.org/standard223#>\n",
    "SELECT ?physical_space WHERE {\n",
    "    bldg:VAVCoolingOnly s223:connected ?physical_space .\n",
    "}\"\"\"\n",
    "\n",
    "for row in model.query(parts_query):\n",
    "    print('\\t'.join(row))"
   ]
  },
  {
   "cell_type": "markdown",
   "id": "bc87d4ef",
   "metadata": {},
   "source": [
    "## Loading the 223 Ontology\n",
    "\n",
    "The 223 ontology contains the rules we will use for inference.\n",
    "We will load the 223 ontology into a separate graph from the model.\n",
    "This is mostly for maintenance: it is easy enough to merge two graphs together into one, but it is much harder to factor them out again.\n",
    "By keeping the ontology graph separate from the model graph, we can more easily maintain and version those graphs individually."
   ]
  },
  {
   "cell_type": "code",
   "execution_count": 4,
   "id": "b41c6e4c",
   "metadata": {},
   "outputs": [
    {
     "data": {
      "text/plain": [
       "<Graph identifier=N08160f5a10c349e8a0f069c4aa2b6533 (<class 'rdflib.graph.Graph'>)>"
      ]
     },
     "execution_count": 4,
     "metadata": {},
     "output_type": "execute_result"
    }
   ],
   "source": [
    "from rdflib import Graph\n",
    "# Create a Graph\n",
    "s223 = Graph()\n",
    "# Parse in a recent copy of the 223 ontology\n",
    "s223.parse(\"https://query.open223.info/ontologies/223p.ttl\")"
   ]
  },
  {
   "cell_type": "markdown",
   "id": "598a5eca",
   "metadata": {},
   "source": [
    "## Applying Inference Rules\n",
    "\n",
    "To apply inference rules, we need an *inference engine*.\n",
    "This is a piece of software which knows how to properly interpret and apply the SHACL rules defined in an ontology.\n",
    "There are multiple closed-source and open-source implementations of SHACL available; some of these are listed on [this page](other-resources)\n",
    "Below, we will be using the open-source [PySHACL](https://github.com/RDFLib/pySHACL) library.\n",
    "\n",
    "We import the PySHACL library and then invoke the `validate` function on our model graph (*data graph* in PySHACL parlance)\n",
    "and our 223 graph (*shape graph* in PySHACL parlance)."
   ]
  },
  {
   "cell_type": "code",
   "execution_count": 5,
   "id": "04c2f4fc",
   "metadata": {},
   "outputs": [
    {
     "ename": "KeyboardInterrupt",
     "evalue": "",
     "output_type": "error",
     "traceback": [
      "\u001b[31m---------------------------------------------------------------------------\u001b[39m",
      "\u001b[31mKeyboardInterrupt\u001b[39m                         Traceback (most recent call last)",
      "\u001b[36mCell\u001b[39m\u001b[36m \u001b[39m\u001b[32mIn[5]\u001b[39m\u001b[32m, line 5\u001b[39m\n\u001b[32m      3\u001b[39m combined = model+s223\n\u001b[32m      4\u001b[39m \u001b[38;5;28;01mfor\u001b[39;00m _ \u001b[38;5;129;01min\u001b[39;00m \u001b[38;5;28mrange\u001b[39m(\u001b[32m5\u001b[39m):\n\u001b[32m----> \u001b[39m\u001b[32m5\u001b[39m     \u001b[43mpyshacl\u001b[49m\u001b[43m.\u001b[49m\u001b[43mvalidate\u001b[49m\u001b[43m(\u001b[49m\u001b[43mcombined\u001b[49m\u001b[43m,\u001b[49m\n\u001b[32m      6\u001b[39m \u001b[43m        \u001b[49m\u001b[43mallow_infos\u001b[49m\u001b[43m=\u001b[49m\u001b[38;5;28;43;01mTrue\u001b[39;49;00m\u001b[43m,\u001b[49m\u001b[43m     \u001b[49m\u001b[38;5;66;43;03m# don't fail if we get an INFO message\u001b[39;49;00m\n\u001b[32m      7\u001b[39m \u001b[43m        \u001b[49m\u001b[43mallow_warnings\u001b[49m\u001b[43m=\u001b[49m\u001b[38;5;28;43;01mTrue\u001b[39;49;00m\u001b[43m,\u001b[49m\u001b[43m  \u001b[49m\u001b[38;5;66;43;03m# don't fail if we get a WARNING message\u001b[39;49;00m\n\u001b[32m      8\u001b[39m \u001b[43m        \u001b[49m\u001b[43mabort_on_first\u001b[49m\u001b[43m=\u001b[49m\u001b[38;5;28;43;01mFalse\u001b[39;49;00m\u001b[43m,\u001b[49m\u001b[43m \u001b[49m\u001b[38;5;66;43;03m# allow errors to happen during execution\u001b[39;49;00m\n\u001b[32m      9\u001b[39m \u001b[43m        \u001b[49m\u001b[43madvanced\u001b[49m\u001b[43m=\u001b[49m\u001b[38;5;28;43;01mTrue\u001b[39;49;00m\u001b[43m,\u001b[49m\u001b[43m        \u001b[49m\u001b[38;5;66;43;03m# allow SHACL rules to execute\u001b[39;49;00m\n\u001b[32m     10\u001b[39m \u001b[43m        \u001b[49m\u001b[43miterate_rules\u001b[49m\u001b[43m=\u001b[49m\u001b[38;5;28;43;01mTrue\u001b[39;49;00m\u001b[43m,\u001b[49m\u001b[43m  \u001b[49m\u001b[38;5;66;43;03m# allow rules to be applied multiple times\u001b[39;49;00m\n\u001b[32m     11\u001b[39m \u001b[43m        \u001b[49m\u001b[43minplace\u001b[49m\u001b[43m=\u001b[49m\u001b[38;5;28;43;01mTrue\u001b[39;49;00m\u001b[43m          \u001b[49m\u001b[38;5;66;43;03m# update the 'model' object with the inferred triples\u001b[39;49;00m\n\u001b[32m     12\u001b[39m \u001b[43m    \u001b[49m\u001b[43m)\u001b[49m\n\u001b[32m     13\u001b[39m \u001b[38;5;66;03m# remove the s223 graph from the model\u001b[39;00m\n\u001b[32m     14\u001b[39m model = combined - s223\n",
      "\u001b[36mFile \u001b[39m\u001b[32m~/work/docs.open223.info/docs.open223.info/.venv/lib/python3.12/site-packages/pyshacl/entrypoints.py:178\u001b[39m, in \u001b[36mvalidate\u001b[39m\u001b[34m(data_graph, shacl_graph, ont_graph, advanced, inference, inplace, abort_on_first, allow_infos, allow_warnings, max_validation_depth, sparql_mode, focus_nodes, use_shapes, *args, **kwargs)\u001b[39m\n\u001b[32m    171\u001b[39m \u001b[38;5;28;01mtry\u001b[39;00m:\n\u001b[32m    172\u001b[39m     validator = Validator(\n\u001b[32m    173\u001b[39m         loaded_dg,\n\u001b[32m    174\u001b[39m         shacl_graph=loaded_sg,\n\u001b[32m    175\u001b[39m         ont_graph=loaded_og,\n\u001b[32m    176\u001b[39m         options=validator_options_dict,\n\u001b[32m    177\u001b[39m     )\n\u001b[32m--> \u001b[39m\u001b[32m178\u001b[39m     conforms, report_graph, report_text = \u001b[43mvalidator\u001b[49m\u001b[43m.\u001b[49m\u001b[43mrun\u001b[49m\u001b[43m(\u001b[49m\u001b[43m)\u001b[49m\n\u001b[32m    179\u001b[39m \u001b[38;5;28;01mexcept\u001b[39;00m ValidationFailure \u001b[38;5;28;01mas\u001b[39;00m e:\n\u001b[32m    180\u001b[39m     conforms = \u001b[38;5;28;01mFalse\u001b[39;00m\n",
      "\u001b[36mFile \u001b[39m\u001b[32m~/work/docs.open223.info/docs.open223.info/.venv/lib/python3.12/site-packages/pyshacl/validator.py:315\u001b[39m, in \u001b[36mValidator.run\u001b[39m\u001b[34m(self)\u001b[39m\n\u001b[32m    313\u001b[39m \u001b[38;5;28;01mtry\u001b[39;00m:\n\u001b[32m    314\u001b[39m     \u001b[38;5;28;01mfor\u001b[39;00m s \u001b[38;5;129;01min\u001b[39;00m shapes:\n\u001b[32m--> \u001b[39m\u001b[32m315\u001b[39m         _is_conform, _reports = \u001b[43ms\u001b[49m\u001b[43m.\u001b[49m\u001b[43mvalidate\u001b[49m\u001b[43m(\u001b[49m\u001b[43mexecutor\u001b[49m\u001b[43m,\u001b[49m\u001b[43m \u001b[49m\u001b[43mg\u001b[49m\u001b[43m,\u001b[49m\u001b[43m \u001b[49m\u001b[43mfocus\u001b[49m\u001b[43m=\u001b[49m\u001b[43mon_focus_nodes\u001b[49m\u001b[43m)\u001b[49m\n\u001b[32m    316\u001b[39m         non_conformant = non_conformant \u001b[38;5;129;01mor\u001b[39;00m (\u001b[38;5;129;01mnot\u001b[39;00m _is_conform)\n\u001b[32m    317\u001b[39m         reports.extend(_reports)\n",
      "\u001b[36mFile \u001b[39m\u001b[32m~/work/docs.open223.info/docs.open223.info/.venv/lib/python3.12/site-packages/pyshacl/shape.py:772\u001b[39m, in \u001b[36mShape.validate\u001b[39m\u001b[34m(self, executor, target_graph, focus, _evaluation_path)\u001b[39m\n\u001b[32m    770\u001b[39m     path_str = \u001b[33m\"\u001b[39m\u001b[33m -> \u001b[39m\u001b[33m\"\u001b[39m.join((\u001b[38;5;28mstr\u001b[39m(e) \u001b[38;5;28;01mfor\u001b[39;00m e \u001b[38;5;129;01min\u001b[39;00m _e_p_copy))\n\u001b[32m    771\u001b[39m     \u001b[38;5;28mself\u001b[39m.logger.debug(\u001b[33mf\u001b[39m\u001b[33m\"\u001b[39m\u001b[33mCurrent constraint evaluation path: \u001b[39m\u001b[38;5;132;01m{\u001b[39;00mpath_str\u001b[38;5;132;01m}\u001b[39;00m\u001b[33m\"\u001b[39m)\n\u001b[32m--> \u001b[39m\u001b[32m772\u001b[39m _is_conform, _reports = \u001b[43mc\u001b[49m\u001b[43m.\u001b[49m\u001b[43mevaluate\u001b[49m\u001b[43m(\u001b[49m\u001b[43mexecutor\u001b[49m\u001b[43m,\u001b[49m\u001b[43m \u001b[49m\u001b[43mtarget_graph\u001b[49m\u001b[43m,\u001b[49m\u001b[43m \u001b[49m\u001b[43mfocus_value_nodes\u001b[49m\u001b[43m,\u001b[49m\u001b[43m \u001b[49m\u001b[43m_e_p_copy\u001b[49m\u001b[43m)\u001b[49m\n\u001b[32m    773\u001b[39m \u001b[38;5;28;01mif\u001b[39;00m executor.debug:\n\u001b[32m    774\u001b[39m     \u001b[38;5;28;01mif\u001b[39;00m collect_stats:\n",
      "\u001b[36mFile \u001b[39m\u001b[32m~/work/docs.open223.info/docs.open223.info/.venv/lib/python3.12/site-packages/pyshacl/constraints/sparql/sparql_based_constraints.py:108\u001b[39m, in \u001b[36mSPARQLBasedConstraint.evaluate\u001b[39m\u001b[34m(self, executor, target_graph, focus_value_nodes, _evaluation_path)\u001b[39m\n\u001b[32m    106\u001b[39m \u001b[38;5;28;01mif\u001b[39;00m query_helper.deactivated:\n\u001b[32m    107\u001b[39m     \u001b[38;5;28;01mcontinue\u001b[39;00m\n\u001b[32m--> \u001b[39m\u001b[32m108\u001b[39m _nc, _r = \u001b[38;5;28;43mself\u001b[39;49m\u001b[43m.\u001b[49m\u001b[43m_evaluate_sparql_constraint\u001b[49m\u001b[43m(\u001b[49m\u001b[43mquery_helper\u001b[49m\u001b[43m,\u001b[49m\u001b[43m \u001b[49m\u001b[43mtarget_graph\u001b[49m\u001b[43m,\u001b[49m\u001b[43m \u001b[49m\u001b[43mfocus_value_nodes\u001b[49m\u001b[43m)\u001b[49m\n\u001b[32m    109\u001b[39m non_conformant = non_conformant \u001b[38;5;129;01mor\u001b[39;00m _nc\n\u001b[32m    110\u001b[39m reports.extend(_r)\n",
      "\u001b[36mFile \u001b[39m\u001b[32m~/work/docs.open223.info/docs.open223.info/.venv/lib/python3.12/site-packages/pyshacl/constraints/sparql/sparql_based_constraints.py:125\u001b[39m, in \u001b[36mSPARQLBasedConstraint._evaluate_sparql_constraint\u001b[39m\u001b[34m(self, sparql_constraint, target_graph, f_v_dict)\u001b[39m\n\u001b[32m    122\u001b[39m sparql_text = sparql_constraint.apply_prefixes(sparql_text)\n\u001b[32m    124\u001b[39m \u001b[38;5;28;01mtry\u001b[39;00m:\n\u001b[32m--> \u001b[39m\u001b[32m125\u001b[39m     violating_vals = \u001b[38;5;28;43mself\u001b[39;49m\u001b[43m.\u001b[49m\u001b[43m_validate_sparql_query\u001b[49m\u001b[43m(\u001b[49m\u001b[43msparql_text\u001b[49m\u001b[43m,\u001b[49m\u001b[43m \u001b[49m\u001b[43minit_binds\u001b[49m\u001b[43m,\u001b[49m\u001b[43m \u001b[49m\u001b[43mtarget_graph\u001b[49m\u001b[43m)\u001b[49m\n\u001b[32m    127\u001b[39m \u001b[38;5;28;01mexcept\u001b[39;00m ValidationFailure \u001b[38;5;28;01mas\u001b[39;00m e:\n\u001b[32m    128\u001b[39m     \u001b[38;5;28;01mraise\u001b[39;00m e\n",
      "\u001b[36mFile \u001b[39m\u001b[32m~/work/docs.open223.info/docs.open223.info/.venv/lib/python3.12/site-packages/pyshacl/constraints/sparql/sparql_based_constraints.py:171\u001b[39m, in \u001b[36mSPARQLBasedConstraint._validate_sparql_query\u001b[39m\u001b[34m(self, query, init_binds, target_graph)\u001b[39m\n\u001b[32m    169\u001b[39m \u001b[38;5;28;01mdef\u001b[39;00m\u001b[38;5;250m \u001b[39m\u001b[34m_validate_sparql_query\u001b[39m(\u001b[38;5;28mself\u001b[39m, query, init_binds, target_graph):\n\u001b[32m    170\u001b[39m     results = target_graph.query(query, initBindings=init_binds)\n\u001b[32m--> \u001b[39m\u001b[32m171\u001b[39m     \u001b[38;5;28;01mif\u001b[39;00m \u001b[38;5;129;01mnot\u001b[39;00m results \u001b[38;5;129;01mor\u001b[39;00m \u001b[38;5;28mlen\u001b[39m(results.bindings) < \u001b[32m1\u001b[39m:\n\u001b[32m    172\u001b[39m         \u001b[38;5;28;01mreturn\u001b[39;00m []\n\u001b[32m    173\u001b[39m     violations = []\n",
      "\u001b[36mFile \u001b[39m\u001b[32m~/work/docs.open223.info/docs.open223.info/.venv/lib/python3.12/site-packages/rdflib/query.py:356\u001b[39m, in \u001b[36mResult.__bool__\u001b[39m\u001b[34m(self)\u001b[39m\n\u001b[32m    354\u001b[39m     \u001b[38;5;28;01mreturn\u001b[39;00m \u001b[38;5;28mself\u001b[39m.askAnswer  \u001b[38;5;66;03m# type: ignore[return-value]\u001b[39;00m\n\u001b[32m    355\u001b[39m \u001b[38;5;28;01melse\u001b[39;00m:\n\u001b[32m--> \u001b[39m\u001b[32m356\u001b[39m     \u001b[38;5;28;01mreturn\u001b[39;00m \u001b[38;5;28;43mlen\u001b[39;49m\u001b[43m(\u001b[49m\u001b[38;5;28;43mself\u001b[39;49m\u001b[43m)\u001b[49m > \u001b[32m0\u001b[39m\n",
      "\u001b[36mFile \u001b[39m\u001b[32m~/work/docs.open223.info/docs.open223.info/.venv/lib/python3.12/site-packages/rdflib/query.py:346\u001b[39m, in \u001b[36mResult.__len__\u001b[39m\u001b[34m(self)\u001b[39m\n\u001b[32m    344\u001b[39m     \u001b[38;5;28;01mreturn\u001b[39;00m \u001b[32m1\u001b[39m\n\u001b[32m    345\u001b[39m \u001b[38;5;28;01melif\u001b[39;00m \u001b[38;5;28mself\u001b[39m.type == \u001b[33m\"\u001b[39m\u001b[33mSELECT\u001b[39m\u001b[33m\"\u001b[39m:\n\u001b[32m--> \u001b[39m\u001b[32m346\u001b[39m     \u001b[38;5;28;01mreturn\u001b[39;00m \u001b[38;5;28mlen\u001b[39m(\u001b[38;5;28;43mself\u001b[39;49m\u001b[43m.\u001b[49m\u001b[43mbindings\u001b[49m)\n\u001b[32m    347\u001b[39m \u001b[38;5;28;01melse\u001b[39;00m:\n\u001b[32m    348\u001b[39m     \u001b[38;5;66;03m# type error: Argument 1 to \"len\" has incompatible type \"Optional[Graph]\"; expected \"Sized\"\u001b[39;00m\n\u001b[32m    349\u001b[39m     \u001b[38;5;28;01mreturn\u001b[39;00m \u001b[38;5;28mlen\u001b[39m(\u001b[38;5;28mself\u001b[39m.graph)\n",
      "\u001b[36mFile \u001b[39m\u001b[32m~/work/docs.open223.info/docs.open223.info/.venv/lib/python3.12/site-packages/rdflib/query.py:240\u001b[39m, in \u001b[36mResult.bindings\u001b[39m\u001b[34m(self)\u001b[39m\n\u001b[32m    236\u001b[39m \u001b[38;5;250m\u001b[39m\u001b[33;03m\"\"\"\u001b[39;00m\n\u001b[32m    237\u001b[39m \u001b[33;03ma list of variable bindings as dicts\u001b[39;00m\n\u001b[32m    238\u001b[39m \u001b[33;03m\"\"\"\u001b[39;00m\n\u001b[32m    239\u001b[39m \u001b[38;5;28;01mif\u001b[39;00m \u001b[38;5;28mself\u001b[39m._genbindings:\n\u001b[32m--> \u001b[39m\u001b[32m240\u001b[39m     \u001b[38;5;28mself\u001b[39m._bindings += \u001b[38;5;28;43mlist\u001b[39;49m\u001b[43m(\u001b[49m\u001b[38;5;28;43mself\u001b[39;49m\u001b[43m.\u001b[49m\u001b[43m_genbindings\u001b[49m\u001b[43m)\u001b[49m\n\u001b[32m    241\u001b[39m     \u001b[38;5;28mself\u001b[39m._genbindings = \u001b[38;5;28;01mNone\u001b[39;00m\n\u001b[32m    243\u001b[39m \u001b[38;5;28;01mreturn\u001b[39;00m \u001b[38;5;28mself\u001b[39m._bindings\n",
      "\u001b[36mFile \u001b[39m\u001b[32m~/work/docs.open223.info/docs.open223.info/.venv/lib/python3.12/site-packages/rdflib/plugins/sparql/evaluate.py:574\u001b[39m, in \u001b[36m<genexpr>\u001b[39m\u001b[34m(.0)\u001b[39m\n\u001b[32m    572\u001b[39m \u001b[38;5;28;01mdef\u001b[39;00m\u001b[38;5;250m \u001b[39m\u001b[34mevalProject\u001b[39m(ctx: QueryContext, project: CompValue):\n\u001b[32m    573\u001b[39m     res = evalPart(ctx, project.p)\n\u001b[32m--> \u001b[39m\u001b[32m574\u001b[39m     \u001b[38;5;28;01mreturn\u001b[39;00m \u001b[43m(\u001b[49m\u001b[43mrow\u001b[49m\u001b[43m.\u001b[49m\u001b[43mproject\u001b[49m\u001b[43m(\u001b[49m\u001b[43mproject\u001b[49m\u001b[43m.\u001b[49m\u001b[43mPV\u001b[49m\u001b[43m)\u001b[49m\u001b[43m \u001b[49m\u001b[38;5;28;43;01mfor\u001b[39;49;00m\u001b[43m \u001b[49m\u001b[43mrow\u001b[49m\u001b[43m \u001b[49m\u001b[38;5;129;43;01min\u001b[39;49;00m\u001b[43m \u001b[49m\u001b[43mres\u001b[49m\u001b[43m)\u001b[49m\n",
      "\u001b[36mFile \u001b[39m\u001b[32m~/work/docs.open223.info/docs.open223.info/.venv/lib/python3.12/site-packages/rdflib/plugins/sparql/evaluate.py:214\u001b[39m, in \u001b[36mevalFilter\u001b[39m\u001b[34m(ctx, part)\u001b[39m\n\u001b[32m    209\u001b[39m \u001b[38;5;28;01mdef\u001b[39;00m\u001b[38;5;250m \u001b[39m\u001b[34mevalFilter\u001b[39m(\n\u001b[32m    210\u001b[39m     ctx: QueryContext, part: CompValue\n\u001b[32m    211\u001b[39m ) -> Generator[FrozenBindings, \u001b[38;5;28;01mNone\u001b[39;00m, \u001b[38;5;28;01mNone\u001b[39;00m]:\n\u001b[32m    212\u001b[39m     \u001b[38;5;66;03m# TODO: Deal with dict returned from evalPart!\u001b[39;00m\n\u001b[32m    213\u001b[39m     \u001b[38;5;28;01mfor\u001b[39;00m c \u001b[38;5;129;01min\u001b[39;00m evalPart(ctx, part.p):\n\u001b[32m--> \u001b[39m\u001b[32m214\u001b[39m         \u001b[38;5;28;01mif\u001b[39;00m \u001b[43m_ebv\u001b[49m\u001b[43m(\u001b[49m\n\u001b[32m    215\u001b[39m \u001b[43m            \u001b[49m\u001b[43mpart\u001b[49m\u001b[43m.\u001b[49m\u001b[43mexpr\u001b[49m\u001b[43m,\u001b[49m\n\u001b[32m    216\u001b[39m \u001b[43m            \u001b[49m\u001b[43mc\u001b[49m\u001b[43m.\u001b[49m\u001b[43mforget\u001b[49m\u001b[43m(\u001b[49m\u001b[43mctx\u001b[49m\u001b[43m,\u001b[49m\u001b[43m \u001b[49m\u001b[43m_except\u001b[49m\u001b[43m=\u001b[49m\u001b[43mpart\u001b[49m\u001b[43m.\u001b[49m\u001b[43m_vars\u001b[49m\u001b[43m)\u001b[49m\u001b[43m \u001b[49m\u001b[38;5;28;43;01mif\u001b[39;49;00m\u001b[43m \u001b[49m\u001b[38;5;129;43;01mnot\u001b[39;49;00m\u001b[43m \u001b[49m\u001b[43mpart\u001b[49m\u001b[43m.\u001b[49m\u001b[43mno_isolated_scope\u001b[49m\u001b[43m \u001b[49m\u001b[38;5;28;43;01melse\u001b[39;49;00m\u001b[43m \u001b[49m\u001b[43mc\u001b[49m\u001b[43m,\u001b[49m\n\u001b[32m    217\u001b[39m \u001b[43m        \u001b[49m\u001b[43m)\u001b[49m:\n\u001b[32m    218\u001b[39m             \u001b[38;5;28;01myield\u001b[39;00m c\n",
      "\u001b[36mFile \u001b[39m\u001b[32m~/work/docs.open223.info/docs.open223.info/.venv/lib/python3.12/site-packages/rdflib/plugins/sparql/evalutils.py:88\u001b[39m, in \u001b[36m_ebv\u001b[39m\u001b[34m(expr, ctx)\u001b[39m\n\u001b[32m     86\u001b[39m \u001b[38;5;28;01mif\u001b[39;00m \u001b[38;5;28misinstance\u001b[39m(expr, Expr):\n\u001b[32m     87\u001b[39m     \u001b[38;5;28;01mtry\u001b[39;00m:\n\u001b[32m---> \u001b[39m\u001b[32m88\u001b[39m         \u001b[38;5;28;01mreturn\u001b[39;00m EBV(\u001b[43mexpr\u001b[49m\u001b[43m.\u001b[49m\u001b[43meval\u001b[49m\u001b[43m(\u001b[49m\u001b[43mctx\u001b[49m\u001b[43m)\u001b[49m)\n\u001b[32m     89\u001b[39m     \u001b[38;5;28;01mexcept\u001b[39;00m SPARQLError:\n\u001b[32m     90\u001b[39m         \u001b[38;5;28;01mreturn\u001b[39;00m \u001b[38;5;28;01mFalse\u001b[39;00m  \u001b[38;5;66;03m# filter error == False\u001b[39;00m\n",
      "\u001b[36mFile \u001b[39m\u001b[32m~/work/docs.open223.info/docs.open223.info/.venv/lib/python3.12/site-packages/rdflib/plugins/sparql/parserutils.py:226\u001b[39m, in \u001b[36mExpr.eval\u001b[39m\u001b[34m(self, ctx)\u001b[39m\n\u001b[32m    224\u001b[39m     \u001b[38;5;28mself\u001b[39m.ctx: Optional[Union[Mapping, FrozenBindings]] = ctx\n\u001b[32m    225\u001b[39m     \u001b[38;5;66;03m# type error: \"None\" not callable\u001b[39;00m\n\u001b[32m--> \u001b[39m\u001b[32m226\u001b[39m     \u001b[38;5;28;01mreturn\u001b[39;00m \u001b[38;5;28;43mself\u001b[39;49m\u001b[43m.\u001b[49m\u001b[43m_evalfn\u001b[49m\u001b[43m(\u001b[49m\u001b[43mctx\u001b[49m\u001b[43m)\u001b[49m  \u001b[38;5;66;03m# type: ignore[misc]\u001b[39;00m\n\u001b[32m    227\u001b[39m \u001b[38;5;28;01mexcept\u001b[39;00m SPARQLError \u001b[38;5;28;01mas\u001b[39;00m e:\n\u001b[32m    228\u001b[39m     \u001b[38;5;28;01mreturn\u001b[39;00m e\n",
      "\u001b[36mFile \u001b[39m\u001b[32m~/work/docs.open223.info/docs.open223.info/.venv/lib/python3.12/site-packages/rdflib/plugins/sparql/operators.py:934\u001b[39m, in \u001b[36mConditionalAndExpression\u001b[39m\u001b[34m(e, ctx)\u001b[39m\n\u001b[32m    928\u001b[39m \u001b[38;5;28;01mdef\u001b[39;00m\u001b[38;5;250m \u001b[39m\u001b[34mConditionalAndExpression\u001b[39m(\n\u001b[32m    929\u001b[39m     e: Expr, ctx: Union[QueryContext, FrozenBindings]\n\u001b[32m    930\u001b[39m ) -> Literal:\n\u001b[32m    931\u001b[39m     \u001b[38;5;66;03m# TODO: handle returned errors\u001b[39;00m\n\u001b[32m    933\u001b[39m     expr = e.expr\n\u001b[32m--> \u001b[39m\u001b[32m934\u001b[39m     other = \u001b[43me\u001b[49m\u001b[43m.\u001b[49m\u001b[43mother\u001b[49m\n\u001b[32m    936\u001b[39m     \u001b[38;5;66;03m# because of the way the add-expr production handled operator precedence\u001b[39;00m\n\u001b[32m    937\u001b[39m     \u001b[38;5;66;03m# we sometimes have nothing to do\u001b[39;00m\n\u001b[32m    938\u001b[39m     \u001b[38;5;28;01mif\u001b[39;00m other \u001b[38;5;129;01mis\u001b[39;00m \u001b[38;5;28;01mNone\u001b[39;00m:\n",
      "\u001b[36mFile \u001b[39m\u001b[32m~/work/docs.open223.info/docs.open223.info/.venv/lib/python3.12/site-packages/rdflib/plugins/sparql/parserutils.py:195\u001b[39m, in \u001b[36mCompValue.__getattr__\u001b[39m\u001b[34m(self, a)\u001b[39m\n\u001b[32m    193\u001b[39m     \u001b[38;5;28;01mraise\u001b[39;00m \u001b[38;5;167;01mAttributeError\u001b[39;00m()\n\u001b[32m    194\u001b[39m \u001b[38;5;28;01mtry\u001b[39;00m:\n\u001b[32m--> \u001b[39m\u001b[32m195\u001b[39m     \u001b[38;5;28;01mreturn\u001b[39;00m \u001b[38;5;28;43mself\u001b[39;49m\u001b[43m[\u001b[49m\u001b[43ma\u001b[49m\u001b[43m]\u001b[49m\n\u001b[32m    196\u001b[39m \u001b[38;5;28;01mexcept\u001b[39;00m \u001b[38;5;167;01mKeyError\u001b[39;00m:\n\u001b[32m    197\u001b[39m     \u001b[38;5;66;03m# raise AttributeError('no such attribute '+a)\u001b[39;00m\n\u001b[32m    198\u001b[39m     \u001b[38;5;28;01mreturn\u001b[39;00m \u001b[38;5;28;01mNone\u001b[39;00m\n",
      "\u001b[36mFile \u001b[39m\u001b[32m~/work/docs.open223.info/docs.open223.info/.venv/lib/python3.12/site-packages/rdflib/plugins/sparql/parserutils.py:183\u001b[39m, in \u001b[36mCompValue.__getitem__\u001b[39m\u001b[34m(self, a)\u001b[39m\n\u001b[32m    182\u001b[39m \u001b[38;5;28;01mdef\u001b[39;00m\u001b[38;5;250m \u001b[39m\u001b[34m__getitem__\u001b[39m(\u001b[38;5;28mself\u001b[39m, a):\n\u001b[32m--> \u001b[39m\u001b[32m183\u001b[39m     \u001b[38;5;28;01mreturn\u001b[39;00m \u001b[38;5;28;43mself\u001b[39;49m\u001b[43m.\u001b[49m\u001b[43m_value\u001b[49m\u001b[43m(\u001b[49m\u001b[43mOrderedDict\u001b[49m\u001b[43m.\u001b[49m\u001b[34;43m__getitem__\u001b[39;49m\u001b[43m(\u001b[49m\u001b[38;5;28;43mself\u001b[39;49m\u001b[43m,\u001b[49m\u001b[43m \u001b[49m\u001b[43ma\u001b[49m\u001b[43m)\u001b[49m\u001b[43m)\u001b[49m\n",
      "\u001b[36mFile \u001b[39m\u001b[32m~/work/docs.open223.info/docs.open223.info/.venv/lib/python3.12/site-packages/rdflib/plugins/sparql/parserutils.py:178\u001b[39m, in \u001b[36mCompValue._value\u001b[39m\u001b[34m(self, val, variables, errors)\u001b[39m\n\u001b[32m    174\u001b[39m \u001b[38;5;28;01mdef\u001b[39;00m\u001b[38;5;250m \u001b[39m\u001b[34m_value\u001b[39m(\n\u001b[32m    175\u001b[39m     \u001b[38;5;28mself\u001b[39m, val: _ValT, variables: \u001b[38;5;28mbool\u001b[39m = \u001b[38;5;28;01mFalse\u001b[39;00m, errors: \u001b[38;5;28mbool\u001b[39m = \u001b[38;5;28;01mFalse\u001b[39;00m\n\u001b[32m    176\u001b[39m ) -> Union[_ValT, Any]:\n\u001b[32m    177\u001b[39m     \u001b[38;5;28;01mif\u001b[39;00m \u001b[38;5;28mself\u001b[39m.ctx \u001b[38;5;129;01mis\u001b[39;00m \u001b[38;5;129;01mnot\u001b[39;00m \u001b[38;5;28;01mNone\u001b[39;00m:\n\u001b[32m--> \u001b[39m\u001b[32m178\u001b[39m         \u001b[38;5;28;01mreturn\u001b[39;00m \u001b[43mvalue\u001b[49m\u001b[43m(\u001b[49m\u001b[38;5;28;43mself\u001b[39;49m\u001b[43m.\u001b[49m\u001b[43mctx\u001b[49m\u001b[43m,\u001b[49m\u001b[43m \u001b[49m\u001b[43mval\u001b[49m\u001b[43m,\u001b[49m\u001b[43m \u001b[49m\u001b[43mvariables\u001b[49m\u001b[43m)\u001b[49m\n\u001b[32m    179\u001b[39m     \u001b[38;5;28;01melse\u001b[39;00m:\n\u001b[32m    180\u001b[39m         \u001b[38;5;28;01mreturn\u001b[39;00m val\n",
      "\u001b[36mFile \u001b[39m\u001b[32m~/work/docs.open223.info/docs.open223.info/.venv/lib/python3.12/site-packages/rdflib/plugins/sparql/parserutils.py:81\u001b[39m, in \u001b[36mvalue\u001b[39m\u001b[34m(ctx, val, variables, errors)\u001b[39m\n\u001b[32m     78\u001b[39m     \u001b[38;5;28;01mraise\u001b[39;00m \u001b[38;5;167;01mException\u001b[39;00m(\u001b[33m\"\u001b[39m\u001b[33mWhat do I do with this CompValue? \u001b[39m\u001b[38;5;132;01m%s\u001b[39;00m\u001b[33m\"\u001b[39m % val)\n\u001b[32m     80\u001b[39m \u001b[38;5;28;01melif\u001b[39;00m \u001b[38;5;28misinstance\u001b[39m(val, \u001b[38;5;28mlist\u001b[39m):\n\u001b[32m---> \u001b[39m\u001b[32m81\u001b[39m     \u001b[38;5;28;01mreturn\u001b[39;00m [\u001b[43mvalue\u001b[49m\u001b[43m(\u001b[49m\u001b[43mctx\u001b[49m\u001b[43m,\u001b[49m\u001b[43m \u001b[49m\u001b[43mx\u001b[49m\u001b[43m,\u001b[49m\u001b[43m \u001b[49m\u001b[43mvariables\u001b[49m\u001b[43m,\u001b[49m\u001b[43m \u001b[49m\u001b[43merrors\u001b[49m\u001b[43m)\u001b[49m \u001b[38;5;28;01mfor\u001b[39;00m x \u001b[38;5;129;01min\u001b[39;00m val]\n\u001b[32m     83\u001b[39m \u001b[38;5;28;01melif\u001b[39;00m \u001b[38;5;28misinstance\u001b[39m(val, (BNode, Variable)):\n\u001b[32m     84\u001b[39m     r = ctx.get(val)\n",
      "\u001b[36mFile \u001b[39m\u001b[32m~/work/docs.open223.info/docs.open223.info/.venv/lib/python3.12/site-packages/rdflib/plugins/sparql/parserutils.py:76\u001b[39m, in \u001b[36mvalue\u001b[39m\u001b[34m(ctx, val, variables, errors)\u001b[39m\n\u001b[32m     63\u001b[39m \u001b[38;5;250m\u001b[39m\u001b[33;03m\"\"\"\u001b[39;00m\n\u001b[32m     64\u001b[39m \u001b[33;03mutility function for evaluating something...\u001b[39;00m\n\u001b[32m     65\u001b[39m \n\u001b[32m   (...)\u001b[39m\u001b[32m     72\u001b[39m \n\u001b[32m     73\u001b[39m \u001b[33;03m\"\"\"\u001b[39;00m\n\u001b[32m     75\u001b[39m \u001b[38;5;28;01mif\u001b[39;00m \u001b[38;5;28misinstance\u001b[39m(val, Expr):\n\u001b[32m---> \u001b[39m\u001b[32m76\u001b[39m     \u001b[38;5;28;01mreturn\u001b[39;00m \u001b[43mval\u001b[49m\u001b[43m.\u001b[49m\u001b[43meval\u001b[49m\u001b[43m(\u001b[49m\u001b[43mctx\u001b[49m\u001b[43m)\u001b[49m  \u001b[38;5;66;03m# recurse?\u001b[39;00m\n\u001b[32m     77\u001b[39m \u001b[38;5;28;01melif\u001b[39;00m \u001b[38;5;28misinstance\u001b[39m(val, CompValue):\n\u001b[32m     78\u001b[39m     \u001b[38;5;28;01mraise\u001b[39;00m \u001b[38;5;167;01mException\u001b[39;00m(\u001b[33m\"\u001b[39m\u001b[33mWhat do I do with this CompValue? \u001b[39m\u001b[38;5;132;01m%s\u001b[39;00m\u001b[33m\"\u001b[39m % val)\n",
      "\u001b[36mFile \u001b[39m\u001b[32m~/work/docs.open223.info/docs.open223.info/.venv/lib/python3.12/site-packages/rdflib/plugins/sparql/parserutils.py:226\u001b[39m, in \u001b[36mExpr.eval\u001b[39m\u001b[34m(self, ctx)\u001b[39m\n\u001b[32m    224\u001b[39m     \u001b[38;5;28mself\u001b[39m.ctx: Optional[Union[Mapping, FrozenBindings]] = ctx\n\u001b[32m    225\u001b[39m     \u001b[38;5;66;03m# type error: \"None\" not callable\u001b[39;00m\n\u001b[32m--> \u001b[39m\u001b[32m226\u001b[39m     \u001b[38;5;28;01mreturn\u001b[39;00m \u001b[38;5;28;43mself\u001b[39;49m\u001b[43m.\u001b[49m\u001b[43m_evalfn\u001b[49m\u001b[43m(\u001b[49m\u001b[43mctx\u001b[49m\u001b[43m)\u001b[49m  \u001b[38;5;66;03m# type: ignore[misc]\u001b[39;00m\n\u001b[32m    227\u001b[39m \u001b[38;5;28;01mexcept\u001b[39;00m SPARQLError \u001b[38;5;28;01mas\u001b[39;00m e:\n\u001b[32m    228\u001b[39m     \u001b[38;5;28;01mreturn\u001b[39;00m e\n",
      "\u001b[36mFile \u001b[39m\u001b[32m~/work/docs.open223.info/docs.open223.info/.venv/lib/python3.12/site-packages/rdflib/plugins/sparql/operators.py:588\u001b[39m, in \u001b[36mBuiltin_EXISTS\u001b[39m\u001b[34m(e, ctx)\u001b[39m\n\u001b[32m    586\u001b[39m ctx = ctx.ctx.thaw(ctx)  \u001b[38;5;66;03m# type: ignore[assignment] # hmm\u001b[39;00m\n\u001b[32m    587\u001b[39m \u001b[38;5;66;03m# type error: Argument 1 to \"evalPart\" has incompatible type \"FrozenBindings\"; expected \"QueryContext\"\u001b[39;00m\n\u001b[32m--> \u001b[39m\u001b[32m588\u001b[39m \u001b[38;5;28;01mfor\u001b[39;00m x \u001b[38;5;129;01min\u001b[39;00m \u001b[43mevalPart\u001b[49m\u001b[43m(\u001b[49m\u001b[43mctx\u001b[49m\u001b[43m,\u001b[49m\u001b[43m \u001b[49m\u001b[43me\u001b[49m\u001b[43m.\u001b[49m\u001b[43mgraph\u001b[49m\u001b[43m)\u001b[49m:  \u001b[38;5;66;03m# type: ignore[arg-type]\u001b[39;00m\n\u001b[32m    589\u001b[39m     \u001b[38;5;28;01mreturn\u001b[39;00m Literal(exists)\n\u001b[32m    590\u001b[39m \u001b[38;5;28;01mreturn\u001b[39;00m Literal(\u001b[38;5;129;01mnot\u001b[39;00m exists)\n",
      "\u001b[36mFile \u001b[39m\u001b[32m~/work/docs.open223.info/docs.open223.info/.venv/lib/python3.12/site-packages/rdflib/plugins/sparql/evaluate.py:297\u001b[39m, in \u001b[36mevalPart\u001b[39m\u001b[34m(ctx, part)\u001b[39m\n\u001b[32m    295\u001b[39m     \u001b[38;5;28;01mreturn\u001b[39;00m evalFilter(ctx, part)\n\u001b[32m    296\u001b[39m \u001b[38;5;28;01melif\u001b[39;00m part.name == \u001b[33m\"\u001b[39m\u001b[33mJoin\u001b[39m\u001b[33m\"\u001b[39m:\n\u001b[32m--> \u001b[39m\u001b[32m297\u001b[39m     \u001b[38;5;28;01mreturn\u001b[39;00m \u001b[43mevalJoin\u001b[49m\u001b[43m(\u001b[49m\u001b[43mctx\u001b[49m\u001b[43m,\u001b[49m\u001b[43m \u001b[49m\u001b[43mpart\u001b[49m\u001b[43m)\u001b[49m\n\u001b[32m    298\u001b[39m \u001b[38;5;28;01melif\u001b[39;00m part.name == \u001b[33m\"\u001b[39m\u001b[33mLeftJoin\u001b[39m\u001b[33m\"\u001b[39m:\n\u001b[32m    299\u001b[39m     \u001b[38;5;28;01mreturn\u001b[39;00m evalLeftJoin(ctx, part)\n",
      "\u001b[36mFile \u001b[39m\u001b[32m~/work/docs.open223.info/docs.open223.info/.venv/lib/python3.12/site-packages/rdflib/plugins/sparql/evaluate.py:165\u001b[39m, in \u001b[36mevalJoin\u001b[39m\u001b[34m(ctx, join)\u001b[39m\n\u001b[32m    163\u001b[39m \u001b[38;5;28;01melse\u001b[39;00m:\n\u001b[32m    164\u001b[39m     a = evalPart(ctx, join.p1)\n\u001b[32m--> \u001b[39m\u001b[32m165\u001b[39m     b = \u001b[38;5;28;43mset\u001b[39;49m\u001b[43m(\u001b[49m\u001b[43mevalPart\u001b[49m\u001b[43m(\u001b[49m\u001b[43mctx\u001b[49m\u001b[43m,\u001b[49m\u001b[43m \u001b[49m\u001b[43mjoin\u001b[49m\u001b[43m.\u001b[49m\u001b[43mp2\u001b[49m\u001b[43m)\u001b[49m\u001b[43m)\u001b[49m\n\u001b[32m    166\u001b[39m     \u001b[38;5;28;01mreturn\u001b[39;00m _join(a, b)\n",
      "\u001b[36mFile \u001b[39m\u001b[32m~/work/docs.open223.info/docs.open223.info/.venv/lib/python3.12/site-packages/rdflib/plugins/sparql/evaluate.py:97\u001b[39m, in \u001b[36mevalBGP\u001b[39m\u001b[34m(ctx, bgp)\u001b[39m\n\u001b[32m     93\u001b[39m _o = ctx[o]\n\u001b[32m     95\u001b[39m \u001b[38;5;66;03m# type error: Item \"None\" of \"Optional[Graph]\" has no attribute \"triples\"\u001b[39;00m\n\u001b[32m     96\u001b[39m \u001b[38;5;66;03m# type Argument 1 to \"triples\" of \"Graph\" has incompatible type \"Tuple[Union[str, Path, None], Union[str, Path, None], Union[str, Path, None]]\"; expected \"Tuple[Optional[Node], Optional[Node], Optional[Node]]\"\u001b[39;00m\n\u001b[32m---> \u001b[39m\u001b[32m97\u001b[39m \u001b[43m\u001b[49m\u001b[38;5;28;43;01mfor\u001b[39;49;00m\u001b[43m \u001b[49m\u001b[43mss\u001b[49m\u001b[43m,\u001b[49m\u001b[43m \u001b[49m\u001b[43msp\u001b[49m\u001b[43m,\u001b[49m\u001b[43m \u001b[49m\u001b[43mso\u001b[49m\u001b[43m \u001b[49m\u001b[38;5;129;43;01min\u001b[39;49;00m\u001b[43m \u001b[49m\u001b[43mctx\u001b[49m\u001b[43m.\u001b[49m\u001b[43mgraph\u001b[49m\u001b[43m.\u001b[49m\u001b[43mtriples\u001b[49m\u001b[43m(\u001b[49m\u001b[43m(\u001b[49m\u001b[43m_s\u001b[49m\u001b[43m,\u001b[49m\u001b[43m \u001b[49m\u001b[43m_p\u001b[49m\u001b[43m,\u001b[49m\u001b[43m \u001b[49m\u001b[43m_o\u001b[49m\u001b[43m)\u001b[49m\u001b[43m)\u001b[49m\u001b[43m:\u001b[49m\u001b[43m  \u001b[49m\u001b[38;5;66;43;03m# type: ignore[union-attr, arg-type]\u001b[39;49;00m\n\u001b[32m     98\u001b[39m \u001b[43m    \u001b[49m\u001b[38;5;28;43;01mif\u001b[39;49;00m\u001b[43m \u001b[49m\u001b[38;5;28;43;01mNone\u001b[39;49;00m\u001b[43m \u001b[49m\u001b[38;5;129;43;01min\u001b[39;49;00m\u001b[43m \u001b[49m\u001b[43m(\u001b[49m\u001b[43m_s\u001b[49m\u001b[43m,\u001b[49m\u001b[43m \u001b[49m\u001b[43m_p\u001b[49m\u001b[43m,\u001b[49m\u001b[43m \u001b[49m\u001b[43m_o\u001b[49m\u001b[43m)\u001b[49m\u001b[43m:\u001b[49m\n\u001b[32m     99\u001b[39m \u001b[43m        \u001b[49m\u001b[43mc\u001b[49m\u001b[43m \u001b[49m\u001b[43m=\u001b[49m\u001b[43m \u001b[49m\u001b[43mctx\u001b[49m\u001b[43m.\u001b[49m\u001b[43mpush\u001b[49m\u001b[43m(\u001b[49m\u001b[43m)\u001b[49m\n",
      "\u001b[36mFile \u001b[39m\u001b[32m~/work/docs.open223.info/docs.open223.info/.venv/lib/python3.12/site-packages/rdflib/graph.py:635\u001b[39m, in \u001b[36mGraph.triples\u001b[39m\u001b[34m(self, triple)\u001b[39m\n\u001b[32m    633\u001b[39m s, p, o = triple\n\u001b[32m    634\u001b[39m \u001b[38;5;28;01mif\u001b[39;00m \u001b[38;5;28misinstance\u001b[39m(p, Path):\n\u001b[32m--> \u001b[39m\u001b[32m635\u001b[39m \u001b[43m    \u001b[49m\u001b[38;5;28;43;01mfor\u001b[39;49;00m\u001b[43m \u001b[49m\u001b[43m_s\u001b[49m\u001b[43m,\u001b[49m\u001b[43m \u001b[49m\u001b[43m_o\u001b[49m\u001b[43m \u001b[49m\u001b[38;5;129;43;01min\u001b[39;49;00m\u001b[43m \u001b[49m\u001b[43mp\u001b[49m\u001b[43m.\u001b[49m\u001b[43meval\u001b[49m\u001b[43m(\u001b[49m\u001b[38;5;28;43mself\u001b[39;49m\u001b[43m,\u001b[49m\u001b[43m \u001b[49m\u001b[43ms\u001b[49m\u001b[43m,\u001b[49m\u001b[43m \u001b[49m\u001b[43mo\u001b[49m\u001b[43m)\u001b[49m\u001b[43m:\u001b[49m\n\u001b[32m    636\u001b[39m \u001b[43m        \u001b[49m\u001b[38;5;28;43;01myield\u001b[39;49;00m\u001b[43m \u001b[49m\u001b[43m_s\u001b[49m\u001b[43m,\u001b[49m\u001b[43m \u001b[49m\u001b[43mp\u001b[49m\u001b[43m,\u001b[49m\u001b[43m \u001b[49m\u001b[43m_o\u001b[49m\n\u001b[32m    637\u001b[39m \u001b[38;5;28;01melse\u001b[39;00m:\n",
      "\u001b[36mFile \u001b[39m\u001b[32m~/work/docs.open223.info/docs.open223.info/.venv/lib/python3.12/site-packages/rdflib/paths.py:313\u001b[39m, in \u001b[36mSequencePath.eval.<locals>._eval_seq_bw\u001b[39m\u001b[34m(paths, subj, obj)\u001b[39m\n\u001b[32m    311\u001b[39m \u001b[38;5;28;01mif\u001b[39;00m paths[:-\u001b[32m1\u001b[39m]:\n\u001b[32m    312\u001b[39m     \u001b[38;5;28;01mfor\u001b[39;00m s, o \u001b[38;5;129;01min\u001b[39;00m eval_path(graph, (\u001b[38;5;28;01mNone\u001b[39;00m, paths[-\u001b[32m1\u001b[39m], obj)):\n\u001b[32m--> \u001b[39m\u001b[32m313\u001b[39m \u001b[43m        \u001b[49m\u001b[38;5;28;43;01mfor\u001b[39;49;00m\u001b[43m \u001b[49m\u001b[43mr\u001b[49m\u001b[43m \u001b[49m\u001b[38;5;129;43;01min\u001b[39;49;00m\u001b[43m \u001b[49m\u001b[43m_eval_seq\u001b[49m\u001b[43m(\u001b[49m\u001b[43mpaths\u001b[49m\u001b[43m[\u001b[49m\u001b[43m:\u001b[49m\u001b[43m-\u001b[49m\u001b[32;43m1\u001b[39;49m\u001b[43m]\u001b[49m\u001b[43m,\u001b[49m\u001b[43m \u001b[49m\u001b[43msubj\u001b[49m\u001b[43m,\u001b[49m\u001b[43m \u001b[49m\u001b[43ms\u001b[49m\u001b[43m)\u001b[49m\u001b[43m:\u001b[49m\n\u001b[32m    314\u001b[39m \u001b[43m            \u001b[49m\u001b[38;5;28;43;01myield\u001b[39;49;00m\u001b[43m \u001b[49m\u001b[43mr\u001b[49m\u001b[43m[\u001b[49m\u001b[32;43m0\u001b[39;49m\u001b[43m]\u001b[49m\u001b[43m,\u001b[49m\u001b[43m \u001b[49m\u001b[43mo\u001b[49m\n\u001b[32m    316\u001b[39m \u001b[38;5;28;01melse\u001b[39;00m:\n",
      "\u001b[36mFile \u001b[39m\u001b[32m~/work/docs.open223.info/docs.open223.info/.venv/lib/python3.12/site-packages/rdflib/paths.py:299\u001b[39m, in \u001b[36mSequencePath.eval.<locals>._eval_seq\u001b[39m\u001b[34m(paths, subj, obj)\u001b[39m\n\u001b[32m    297\u001b[39m \u001b[38;5;28;01mif\u001b[39;00m paths[\u001b[32m1\u001b[39m:]:\n\u001b[32m    298\u001b[39m     \u001b[38;5;28;01mfor\u001b[39;00m s, o \u001b[38;5;129;01min\u001b[39;00m eval_path(graph, (subj, paths[\u001b[32m0\u001b[39m], \u001b[38;5;28;01mNone\u001b[39;00m)):\n\u001b[32m--> \u001b[39m\u001b[32m299\u001b[39m \u001b[43m        \u001b[49m\u001b[38;5;28;43;01mfor\u001b[39;49;00m\u001b[43m \u001b[49m\u001b[43mr\u001b[49m\u001b[43m \u001b[49m\u001b[38;5;129;43;01min\u001b[39;49;00m\u001b[43m \u001b[49m\u001b[43m_eval_seq\u001b[49m\u001b[43m(\u001b[49m\u001b[43mpaths\u001b[49m\u001b[43m[\u001b[49m\u001b[32;43m1\u001b[39;49m\u001b[43m:\u001b[49m\u001b[43m]\u001b[49m\u001b[43m,\u001b[49m\u001b[43m \u001b[49m\u001b[43mo\u001b[49m\u001b[43m,\u001b[49m\u001b[43m \u001b[49m\u001b[43mobj\u001b[49m\u001b[43m)\u001b[49m\u001b[43m:\u001b[49m\n\u001b[32m    300\u001b[39m \u001b[43m            \u001b[49m\u001b[38;5;28;43;01myield\u001b[39;49;00m\u001b[43m \u001b[49m\u001b[43ms\u001b[49m\u001b[43m,\u001b[49m\u001b[43m \u001b[49m\u001b[43mr\u001b[49m\u001b[43m[\u001b[49m\u001b[32;43m1\u001b[39;49m\u001b[43m]\u001b[49m\n\u001b[32m    302\u001b[39m \u001b[38;5;28;01melse\u001b[39;00m:\n",
      "\u001b[36mFile \u001b[39m\u001b[32m~/work/docs.open223.info/docs.open223.info/.venv/lib/python3.12/site-packages/rdflib/paths.py:298\u001b[39m, in \u001b[36mSequencePath.eval.<locals>._eval_seq\u001b[39m\u001b[34m(paths, subj, obj)\u001b[39m\n\u001b[32m    292\u001b[39m \u001b[38;5;28;01mdef\u001b[39;00m\u001b[38;5;250m \u001b[39m\u001b[34m_eval_seq\u001b[39m(\n\u001b[32m    293\u001b[39m     paths: List[Union[Path, URIRef]],\n\u001b[32m    294\u001b[39m     subj: Optional[_SubjectType],\n\u001b[32m    295\u001b[39m     obj: Optional[_ObjectType],\n\u001b[32m    296\u001b[39m ) -> Generator[Tuple[_SubjectType, _ObjectType], \u001b[38;5;28;01mNone\u001b[39;00m, \u001b[38;5;28;01mNone\u001b[39;00m]:\n\u001b[32m    297\u001b[39m     \u001b[38;5;28;01mif\u001b[39;00m paths[\u001b[32m1\u001b[39m:]:\n\u001b[32m--> \u001b[39m\u001b[32m298\u001b[39m \u001b[43m        \u001b[49m\u001b[38;5;28;43;01mfor\u001b[39;49;00m\u001b[43m \u001b[49m\u001b[43ms\u001b[49m\u001b[43m,\u001b[49m\u001b[43m \u001b[49m\u001b[43mo\u001b[49m\u001b[43m \u001b[49m\u001b[38;5;129;43;01min\u001b[39;49;00m\u001b[43m \u001b[49m\u001b[43meval_path\u001b[49m\u001b[43m(\u001b[49m\u001b[43mgraph\u001b[49m\u001b[43m,\u001b[49m\u001b[43m \u001b[49m\u001b[43m(\u001b[49m\u001b[43msubj\u001b[49m\u001b[43m,\u001b[49m\u001b[43m \u001b[49m\u001b[43mpaths\u001b[49m\u001b[43m[\u001b[49m\u001b[32;43m0\u001b[39;49m\u001b[43m]\u001b[49m\u001b[43m,\u001b[49m\u001b[43m \u001b[49m\u001b[38;5;28;43;01mNone\u001b[39;49;00m\u001b[43m)\u001b[49m\u001b[43m)\u001b[49m\u001b[43m:\u001b[49m\n\u001b[32m    299\u001b[39m \u001b[43m            \u001b[49m\u001b[38;5;28;43;01mfor\u001b[39;49;00m\u001b[43m \u001b[49m\u001b[43mr\u001b[49m\u001b[43m \u001b[49m\u001b[38;5;129;43;01min\u001b[39;49;00m\u001b[43m \u001b[49m\u001b[43m_eval_seq\u001b[49m\u001b[43m(\u001b[49m\u001b[43mpaths\u001b[49m\u001b[43m[\u001b[49m\u001b[32;43m1\u001b[39;49m\u001b[43m:\u001b[49m\u001b[43m]\u001b[49m\u001b[43m,\u001b[49m\u001b[43m \u001b[49m\u001b[43mo\u001b[49m\u001b[43m,\u001b[49m\u001b[43m \u001b[49m\u001b[43mobj\u001b[49m\u001b[43m)\u001b[49m\u001b[43m:\u001b[49m\n\u001b[32m    300\u001b[39m \u001b[43m                \u001b[49m\u001b[38;5;28;43;01myield\u001b[39;49;00m\u001b[43m \u001b[49m\u001b[43ms\u001b[49m\u001b[43m,\u001b[49m\u001b[43m \u001b[49m\u001b[43mr\u001b[49m\u001b[43m[\u001b[49m\u001b[32;43m1\u001b[39;49m\u001b[43m]\u001b[49m\n",
      "\u001b[36mFile \u001b[39m\u001b[32m~/work/docs.open223.info/docs.open223.info/.venv/lib/python3.12/site-packages/rdflib/paths.py:566\u001b[39m, in \u001b[36m<genexpr>\u001b[39m\u001b[34m(.0)\u001b[39m\n\u001b[32m    558\u001b[39m \u001b[38;5;28;01mdef\u001b[39;00m\u001b[38;5;250m \u001b[39m\u001b[34meval_path\u001b[39m(\n\u001b[32m    559\u001b[39m     graph: Graph,\n\u001b[32m    560\u001b[39m     t: Tuple[\n\u001b[32m   (...)\u001b[39m\u001b[32m    564\u001b[39m     ],\n\u001b[32m    565\u001b[39m ) -> Iterator[Tuple[_SubjectType, _ObjectType]]:\n\u001b[32m--> \u001b[39m\u001b[32m566\u001b[39m     \u001b[38;5;28;01mreturn\u001b[39;00m \u001b[43m(\u001b[49m\u001b[43m(\u001b[49m\u001b[43ms\u001b[49m\u001b[43m,\u001b[49m\u001b[43m \u001b[49m\u001b[43mo\u001b[49m\u001b[43m)\u001b[49m\u001b[43m \u001b[49m\u001b[38;5;28;43;01mfor\u001b[39;49;00m\u001b[43m \u001b[49m\u001b[43ms\u001b[49m\u001b[43m,\u001b[49m\u001b[43m \u001b[49m\u001b[43mp\u001b[49m\u001b[43m,\u001b[49m\u001b[43m \u001b[49m\u001b[43mo\u001b[49m\u001b[43m \u001b[49m\u001b[38;5;129;43;01min\u001b[39;49;00m\u001b[43m \u001b[49m\u001b[43mgraph\u001b[49m\u001b[43m.\u001b[49m\u001b[43mtriples\u001b[49m\u001b[43m(\u001b[49m\u001b[43mt\u001b[49m\u001b[43m)\u001b[49m\u001b[43m)\u001b[49m\n",
      "\u001b[36mFile \u001b[39m\u001b[32m~/work/docs.open223.info/docs.open223.info/.venv/lib/python3.12/site-packages/rdflib/graph.py:635\u001b[39m, in \u001b[36mGraph.triples\u001b[39m\u001b[34m(self, triple)\u001b[39m\n\u001b[32m    633\u001b[39m s, p, o = triple\n\u001b[32m    634\u001b[39m \u001b[38;5;28;01mif\u001b[39;00m \u001b[38;5;28misinstance\u001b[39m(p, Path):\n\u001b[32m--> \u001b[39m\u001b[32m635\u001b[39m \u001b[43m    \u001b[49m\u001b[38;5;28;43;01mfor\u001b[39;49;00m\u001b[43m \u001b[49m\u001b[43m_s\u001b[49m\u001b[43m,\u001b[49m\u001b[43m \u001b[49m\u001b[43m_o\u001b[49m\u001b[43m \u001b[49m\u001b[38;5;129;43;01min\u001b[39;49;00m\u001b[43m \u001b[49m\u001b[43mp\u001b[49m\u001b[43m.\u001b[49m\u001b[43meval\u001b[49m\u001b[43m(\u001b[49m\u001b[38;5;28;43mself\u001b[39;49m\u001b[43m,\u001b[49m\u001b[43m \u001b[49m\u001b[43ms\u001b[49m\u001b[43m,\u001b[49m\u001b[43m \u001b[49m\u001b[43mo\u001b[49m\u001b[43m)\u001b[49m\u001b[43m:\u001b[49m\n\u001b[32m    636\u001b[39m \u001b[43m        \u001b[49m\u001b[38;5;28;43;01myield\u001b[39;49;00m\u001b[43m \u001b[49m\u001b[43m_s\u001b[49m\u001b[43m,\u001b[49m\u001b[43m \u001b[49m\u001b[43mp\u001b[49m\u001b[43m,\u001b[49m\u001b[43m \u001b[49m\u001b[43m_o\u001b[49m\n\u001b[32m    637\u001b[39m \u001b[38;5;28;01melse\u001b[39;00m:\n",
      "\u001b[36mFile \u001b[39m\u001b[32m~/work/docs.open223.info/docs.open223.info/.venv/lib/python3.12/site-packages/rdflib/paths.py:462\u001b[39m, in \u001b[36mMulPath.eval\u001b[39m\u001b[34m(self, graph, subj, obj, first)\u001b[39m\n\u001b[32m    460\u001b[39m done = \u001b[38;5;28mset\u001b[39m()  \u001b[38;5;66;03m# the spec does, by defn, not allow duplicates\u001b[39;00m\n\u001b[32m    461\u001b[39m \u001b[38;5;28;01mif\u001b[39;00m subj:\n\u001b[32m--> \u001b[39m\u001b[32m462\u001b[39m \u001b[43m    \u001b[49m\u001b[38;5;28;43;01mfor\u001b[39;49;00m\u001b[43m \u001b[49m\u001b[43mx\u001b[49m\u001b[43m \u001b[49m\u001b[38;5;129;43;01min\u001b[39;49;00m\u001b[43m \u001b[49m\u001b[43m_fwd\u001b[49m\u001b[43m(\u001b[49m\u001b[43msubj\u001b[49m\u001b[43m,\u001b[49m\u001b[43m \u001b[49m\u001b[43mobj\u001b[49m\u001b[43m,\u001b[49m\u001b[43m \u001b[49m\u001b[38;5;28;43mset\u001b[39;49m\u001b[43m(\u001b[49m\u001b[43m)\u001b[49m\u001b[43m)\u001b[49m\u001b[43m:\u001b[49m\n\u001b[32m    463\u001b[39m \u001b[43m        \u001b[49m\u001b[38;5;28;43;01mif\u001b[39;49;00m\u001b[43m \u001b[49m\u001b[43mx\u001b[49m\u001b[43m \u001b[49m\u001b[38;5;129;43;01mnot\u001b[39;49;00m\u001b[43m \u001b[49m\u001b[38;5;129;43;01min\u001b[39;49;00m\u001b[43m \u001b[49m\u001b[43mdone\u001b[49m\u001b[43m:\u001b[49m\n\u001b[32m    464\u001b[39m \u001b[43m            \u001b[49m\u001b[43mdone\u001b[49m\u001b[43m.\u001b[49m\u001b[43madd\u001b[49m\u001b[43m(\u001b[49m\u001b[43mx\u001b[49m\u001b[43m)\u001b[49m\n",
      "\u001b[36mFile \u001b[39m\u001b[32m~/work/docs.open223.info/docs.open223.info/.venv/lib/python3.12/site-packages/rdflib/paths.py:409\u001b[39m, in \u001b[36mMulPath.eval.<locals>._fwd\u001b[39m\u001b[34m(subj, obj, seen)\u001b[39m\n\u001b[32m    407\u001b[39m \u001b[38;5;28;01mif\u001b[39;00m o \u001b[38;5;129;01min\u001b[39;00m seen:  \u001b[38;5;66;03m# type: ignore[operator]\u001b[39;00m\n\u001b[32m    408\u001b[39m     \u001b[38;5;28;01mcontinue\u001b[39;00m\n\u001b[32m--> \u001b[39m\u001b[32m409\u001b[39m \u001b[43m\u001b[49m\u001b[38;5;28;43;01mfor\u001b[39;49;00m\u001b[43m \u001b[49m\u001b[43ms2\u001b[49m\u001b[43m,\u001b[49m\u001b[43m \u001b[49m\u001b[43mo2\u001b[49m\u001b[43m \u001b[49m\u001b[38;5;129;43;01min\u001b[39;49;00m\u001b[43m \u001b[49m\u001b[43m_fwd\u001b[49m\u001b[43m(\u001b[49m\u001b[43mo\u001b[49m\u001b[43m,\u001b[49m\u001b[43m \u001b[49m\u001b[43mobj\u001b[49m\u001b[43m,\u001b[49m\u001b[43m \u001b[49m\u001b[43mseen\u001b[49m\u001b[43m)\u001b[49m\u001b[43m:\u001b[49m\n\u001b[32m    410\u001b[39m \u001b[43m    \u001b[49m\u001b[38;5;28;43;01myield\u001b[39;49;00m\u001b[43m \u001b[49m\u001b[43ms\u001b[49m\u001b[43m,\u001b[49m\u001b[43m \u001b[49m\u001b[43mo2\u001b[49m\n",
      "\u001b[36mFile \u001b[39m\u001b[32m~/work/docs.open223.info/docs.open223.info/.venv/lib/python3.12/site-packages/rdflib/paths.py:409\u001b[39m, in \u001b[36mMulPath.eval.<locals>._fwd\u001b[39m\u001b[34m(subj, obj, seen)\u001b[39m\n\u001b[32m    407\u001b[39m \u001b[38;5;28;01mif\u001b[39;00m o \u001b[38;5;129;01min\u001b[39;00m seen:  \u001b[38;5;66;03m# type: ignore[operator]\u001b[39;00m\n\u001b[32m    408\u001b[39m     \u001b[38;5;28;01mcontinue\u001b[39;00m\n\u001b[32m--> \u001b[39m\u001b[32m409\u001b[39m \u001b[43m\u001b[49m\u001b[38;5;28;43;01mfor\u001b[39;49;00m\u001b[43m \u001b[49m\u001b[43ms2\u001b[49m\u001b[43m,\u001b[49m\u001b[43m \u001b[49m\u001b[43mo2\u001b[49m\u001b[43m \u001b[49m\u001b[38;5;129;43;01min\u001b[39;49;00m\u001b[43m \u001b[49m\u001b[43m_fwd\u001b[49m\u001b[43m(\u001b[49m\u001b[43mo\u001b[49m\u001b[43m,\u001b[49m\u001b[43m \u001b[49m\u001b[43mobj\u001b[49m\u001b[43m,\u001b[49m\u001b[43m \u001b[49m\u001b[43mseen\u001b[49m\u001b[43m)\u001b[49m\u001b[43m:\u001b[49m\n\u001b[32m    410\u001b[39m \u001b[43m    \u001b[49m\u001b[38;5;28;43;01myield\u001b[39;49;00m\u001b[43m \u001b[49m\u001b[43ms\u001b[49m\u001b[43m,\u001b[49m\u001b[43m \u001b[49m\u001b[43mo2\u001b[49m\n",
      "\u001b[36mFile \u001b[39m\u001b[32m~/work/docs.open223.info/docs.open223.info/.venv/lib/python3.12/site-packages/rdflib/paths.py:402\u001b[39m, in \u001b[36mMulPath.eval.<locals>._fwd\u001b[39m\u001b[34m(subj, obj, seen)\u001b[39m\n\u001b[32m    393\u001b[39m \u001b[38;5;28;01mdef\u001b[39;00m\u001b[38;5;250m \u001b[39m\u001b[34m_fwd\u001b[39m(\n\u001b[32m    394\u001b[39m     subj: Optional[_SubjectType] = \u001b[38;5;28;01mNone\u001b[39;00m,\n\u001b[32m    395\u001b[39m     obj: Optional[_ObjectType] = \u001b[38;5;28;01mNone\u001b[39;00m,\n\u001b[32m   (...)\u001b[39m\u001b[32m    398\u001b[39m     \u001b[38;5;66;03m# type error: Item \"None\" of \"Optional[Set[Node]]\" has no attribute \"add\"\u001b[39;00m\n\u001b[32m    399\u001b[39m     \u001b[38;5;66;03m# type error: Argument 1 to \"add\" of \"set\" has incompatible type \"Optional[Node]\"; expected \"Node\"\u001b[39;00m\n\u001b[32m    400\u001b[39m     seen.add(subj)  \u001b[38;5;66;03m# type: ignore[union-attr, arg-type]\u001b[39;00m\n\u001b[32m--> \u001b[39m\u001b[32m402\u001b[39m \u001b[43m    \u001b[49m\u001b[38;5;28;43;01mfor\u001b[39;49;00m\u001b[43m \u001b[49m\u001b[43ms\u001b[49m\u001b[43m,\u001b[49m\u001b[43m \u001b[49m\u001b[43mo\u001b[49m\u001b[43m \u001b[49m\u001b[38;5;129;43;01min\u001b[39;49;00m\u001b[43m \u001b[49m\u001b[43meval_path\u001b[49m\u001b[43m(\u001b[49m\u001b[43mgraph\u001b[49m\u001b[43m,\u001b[49m\u001b[43m \u001b[49m\u001b[43m(\u001b[49m\u001b[43msubj\u001b[49m\u001b[43m,\u001b[49m\u001b[43m \u001b[49m\u001b[38;5;28;43mself\u001b[39;49m\u001b[43m.\u001b[49m\u001b[43mpath\u001b[49m\u001b[43m,\u001b[49m\u001b[43m \u001b[49m\u001b[38;5;28;43;01mNone\u001b[39;49;00m\u001b[43m)\u001b[49m\u001b[43m)\u001b[49m\u001b[43m:\u001b[49m\n\u001b[32m    403\u001b[39m \u001b[43m        \u001b[49m\u001b[38;5;28;43;01mif\u001b[39;49;00m\u001b[43m \u001b[49m\u001b[38;5;129;43;01mnot\u001b[39;49;00m\u001b[43m \u001b[49m\u001b[43mobj\u001b[49m\u001b[43m \u001b[49m\u001b[38;5;129;43;01mor\u001b[39;49;00m\u001b[43m \u001b[49m\u001b[43mo\u001b[49m\u001b[43m \u001b[49m\u001b[43m==\u001b[49m\u001b[43m \u001b[49m\u001b[43mobj\u001b[49m\u001b[43m:\u001b[49m\n\u001b[32m    404\u001b[39m \u001b[43m            \u001b[49m\u001b[38;5;28;43;01myield\u001b[39;49;00m\u001b[43m \u001b[49m\u001b[43ms\u001b[49m\u001b[43m,\u001b[49m\u001b[43m \u001b[49m\u001b[43mo\u001b[49m\n",
      "\u001b[36mFile \u001b[39m\u001b[32m~/work/docs.open223.info/docs.open223.info/.venv/lib/python3.12/site-packages/rdflib/paths.py:566\u001b[39m, in \u001b[36m<genexpr>\u001b[39m\u001b[34m(.0)\u001b[39m\n\u001b[32m    558\u001b[39m \u001b[38;5;28;01mdef\u001b[39;00m\u001b[38;5;250m \u001b[39m\u001b[34meval_path\u001b[39m(\n\u001b[32m    559\u001b[39m     graph: Graph,\n\u001b[32m    560\u001b[39m     t: Tuple[\n\u001b[32m   (...)\u001b[39m\u001b[32m    564\u001b[39m     ],\n\u001b[32m    565\u001b[39m ) -> Iterator[Tuple[_SubjectType, _ObjectType]]:\n\u001b[32m--> \u001b[39m\u001b[32m566\u001b[39m     \u001b[38;5;28;01mreturn\u001b[39;00m \u001b[43m(\u001b[49m\u001b[43m(\u001b[49m\u001b[43ms\u001b[49m\u001b[43m,\u001b[49m\u001b[43m \u001b[49m\u001b[43mo\u001b[49m\u001b[43m)\u001b[49m\u001b[43m \u001b[49m\u001b[38;5;28;43;01mfor\u001b[39;49;00m\u001b[43m \u001b[49m\u001b[43ms\u001b[49m\u001b[43m,\u001b[49m\u001b[43m \u001b[49m\u001b[43mp\u001b[49m\u001b[43m,\u001b[49m\u001b[43m \u001b[49m\u001b[43mo\u001b[49m\u001b[43m \u001b[49m\u001b[38;5;129;43;01min\u001b[39;49;00m\u001b[43m \u001b[49m\u001b[43mgraph\u001b[49m\u001b[43m.\u001b[49m\u001b[43mtriples\u001b[49m\u001b[43m(\u001b[49m\u001b[43mt\u001b[49m\u001b[43m)\u001b[49m\u001b[43m)\u001b[49m\n",
      "\u001b[36mFile \u001b[39m\u001b[32m~/work/docs.open223.info/docs.open223.info/.venv/lib/python3.12/site-packages/rdflib/graph.py:638\u001b[39m, in \u001b[36mGraph.triples\u001b[39m\u001b[34m(self, triple)\u001b[39m\n\u001b[32m    636\u001b[39m         \u001b[38;5;28;01myield\u001b[39;00m _s, p, _o\n\u001b[32m    637\u001b[39m \u001b[38;5;28;01melse\u001b[39;00m:\n\u001b[32m--> \u001b[39m\u001b[32m638\u001b[39m \u001b[43m    \u001b[49m\u001b[38;5;28;43;01mfor\u001b[39;49;00m\u001b[43m \u001b[49m\u001b[43m(\u001b[49m\u001b[43m_s\u001b[49m\u001b[43m,\u001b[49m\u001b[43m \u001b[49m\u001b[43m_p\u001b[49m\u001b[43m,\u001b[49m\u001b[43m \u001b[49m\u001b[43m_o\u001b[49m\u001b[43m)\u001b[49m\u001b[43m,\u001b[49m\u001b[43m \u001b[49m\u001b[43mcg\u001b[49m\u001b[43m \u001b[49m\u001b[38;5;129;43;01min\u001b[39;49;00m\u001b[43m \u001b[49m\u001b[38;5;28;43mself\u001b[39;49m\u001b[43m.\u001b[49m\u001b[43m__store\u001b[49m\u001b[43m.\u001b[49m\u001b[43mtriples\u001b[49m\u001b[43m(\u001b[49m\u001b[43m(\u001b[49m\u001b[43ms\u001b[49m\u001b[43m,\u001b[49m\u001b[43m \u001b[49m\u001b[43mp\u001b[49m\u001b[43m,\u001b[49m\u001b[43m \u001b[49m\u001b[43mo\u001b[49m\u001b[43m)\u001b[49m\u001b[43m,\u001b[49m\u001b[43m \u001b[49m\u001b[43mcontext\u001b[49m\u001b[43m=\u001b[49m\u001b[38;5;28;43mself\u001b[39;49m\u001b[43m)\u001b[49m\u001b[43m:\u001b[49m\n\u001b[32m    639\u001b[39m \u001b[43m        \u001b[49m\u001b[38;5;28;43;01myield\u001b[39;49;00m\u001b[43m \u001b[49m\u001b[43m_s\u001b[49m\u001b[43m,\u001b[49m\u001b[43m \u001b[49m\u001b[43m_p\u001b[49m\u001b[43m,\u001b[49m\u001b[43m \u001b[49m\u001b[43m_o\u001b[49m\n",
      "\u001b[36mFile \u001b[39m\u001b[32m~/work/docs.open223.info/docs.open223.info/.venv/lib/python3.12/site-packages/rdflib/plugins/stores/memory.py:417\u001b[39m, in \u001b[36mMemory.triples\u001b[39m\u001b[34m(self, triple_pattern, context)\u001b[39m\n\u001b[32m    409\u001b[39m     \u001b[38;5;28;01mif\u001b[39;00m (\n\u001b[32m    410\u001b[39m         triple_pattern == (\u001b[38;5;28;01mNone\u001b[39;00m, \u001b[38;5;28;01mNone\u001b[39;00m, \u001b[38;5;28;01mNone\u001b[39;00m)\n\u001b[32m    411\u001b[39m         \u001b[38;5;129;01mand\u001b[39;00m context \u001b[38;5;129;01min\u001b[39;00m \u001b[38;5;28mself\u001b[39m.__all_contexts\n\u001b[32m    412\u001b[39m         \u001b[38;5;129;01mand\u001b[39;00m \u001b[38;5;129;01mnot\u001b[39;00m \u001b[38;5;28mself\u001b[39m.graph_aware\n\u001b[32m    413\u001b[39m     ):\n\u001b[32m    414\u001b[39m         \u001b[38;5;66;03m# remove the whole context\u001b[39;00m\n\u001b[32m    415\u001b[39m         \u001b[38;5;28mself\u001b[39m.__all_contexts.remove(context)\n\u001b[32m--> \u001b[39m\u001b[32m417\u001b[39m \u001b[38;5;28;01mdef\u001b[39;00m\u001b[38;5;250m \u001b[39m\u001b[34mtriples\u001b[39m(\n\u001b[32m    418\u001b[39m     \u001b[38;5;28mself\u001b[39m,\n\u001b[32m    419\u001b[39m     triple_pattern: _TriplePatternType,\n\u001b[32m    420\u001b[39m     context: Optional[_ContextType] = \u001b[38;5;28;01mNone\u001b[39;00m,\n\u001b[32m    421\u001b[39m ) -> Generator[\n\u001b[32m    422\u001b[39m     Tuple[_TripleType, Generator[Optional[_ContextType], \u001b[38;5;28;01mNone\u001b[39;00m, \u001b[38;5;28;01mNone\u001b[39;00m]],\n\u001b[32m    423\u001b[39m     \u001b[38;5;28;01mNone\u001b[39;00m,\n\u001b[32m    424\u001b[39m     \u001b[38;5;28;01mNone\u001b[39;00m,\n\u001b[32m    425\u001b[39m ]:\n\u001b[32m    426\u001b[39m \u001b[38;5;250m    \u001b[39m\u001b[33;03m\"\"\"A generator over all the triples matching\"\"\"\u001b[39;00m\n\u001b[32m    427\u001b[39m     req_ctx = \u001b[38;5;28mself\u001b[39m.__ctx_to_str(context)\n",
      "\u001b[31mKeyboardInterrupt\u001b[39m: "
     ]
    }
   ],
   "source": [
    "import pyshacl\n",
    "\n",
    "combined = model+s223\n",
    "for _ in range(5):\n",
    "    pyshacl.validate(combined,\n",
    "        allow_infos=True,     # don't fail if we get an INFO message\n",
    "        allow_warnings=True,  # don't fail if we get a WARNING message\n",
    "        abort_on_first=False, # allow errors to happen during execution\n",
    "        advanced=True,        # allow SHACL rules to execute\n",
    "        iterate_rules=True,  # allow rules to be applied multiple times\n",
    "        inplace=True          # update the 'model' object with the inferred triples\n",
    "    )\n",
    "# remove the s223 graph from the model\n",
    "model = combined - s223\n",
    "print(f\"The model now contains {len(model)} triples\")"
   ]
  },
  {
   "cell_type": "markdown",
   "id": "cd83cde9",
   "metadata": {},
   "source": [
    "This may take a few minutes to run, depending on the size of your model.\n",
    "If the PySHACL library is too slow, we recommend looking at alternate open-source implementations\n",
    "like [TopQuadrant's Java-based implementation](https://github.com/TopQuadrant/shacl).\n",
    "\n",
    "We can see from the print statement that several triples have been added to the model.\n",
    "\n",
    "```{note}\n",
    "The `pyshacl.validate` function actually returns a SHACL validation report which can be used to fix\n",
    "the model and make it compatible with the 223 ontology. See the [Model Validation](model_validation)\n",
    "tutorial for how to access and interpret this report.\n",
    "```\n",
    "\n",
    "<details>\n",
    "<summary>Turtle representation of the model (post-inference)</summary>"
   ]
  },
  {
   "cell_type": "code",
   "execution_count": null,
   "id": "304af771",
   "metadata": {},
   "outputs": [],
   "source": [
    "print(model.serialize())"
   ]
  },
  {
   "cell_type": "markdown",
   "id": "e3c9328c",
   "metadata": {},
   "source": [
    "</details>\n",
    "\n",
    "## Using the New Model\n",
    "\n",
    "To demonstrate that the model contains new triples, we can try re-running the query from before.\n",
    "We can see that the query returns results this time."
   ]
  },
  {
   "cell_type": "code",
   "execution_count": null,
   "id": "b175191b",
   "metadata": {},
   "outputs": [],
   "source": [
    "query = \"\"\"\n",
    "PREFIX bldg: <http://data.ashrae.org/standard223/1.0/data/guideline36-2021-A-1#>\n",
    "PREFIX s223: <http://data.ashrae.org/standard223#>\n",
    "SELECT ?physical_space WHERE {\n",
    "    bldg:VAVCoolingOnly s223:connected ?physical_space .\n",
    "}\"\"\"\n",
    "\n",
    "for row in model.query(query):\n",
    "    print('\\t'.join(row))"
   ]
  }
 ],
 "metadata": {
  "jupytext": {
   "cell_metadata_filter": "-all",
   "formats": "md:myst",
   "text_representation": {
    "extension": ".md",
    "format_name": "myst"
   }
  },
  "kernelspec": {
   "display_name": "open223-book",
   "language": "python",
   "name": "open223-book"
  },
  "language_info": {
   "codemirror_mode": {
    "name": "ipython",
    "version": 3
   },
   "file_extension": ".py",
   "mimetype": "text/x-python",
   "name": "python",
   "nbconvert_exporter": "python",
   "pygments_lexer": "ipython3",
   "version": "3.12.3"
  },
  "source_map": [
   12,
   39,
   46,
   51,
   53,
   62,
   72,
   81,
   87,
   99,
   115,
   132,
   134,
   143
  ]
 },
 "nbformat": 4,
 "nbformat_minor": 5
}