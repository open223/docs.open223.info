{
 "cells": [
  {
   "cell_type": "markdown",
   "id": "85600779",
   "metadata": {},
   "source": [
    "(model-inference)=\n",
    "# Model Inference\n",
    "\n",
    "```{note}\n",
    "The purpose of this tutorial is to show how SHACL inference applied to a 223 model can\n",
    "make models easier to write and query. Specifically, this tutorial will teach the following:\n",
    "1. How to load SHACL inference rules defined in the 223 ontology into memory\n",
    "2. How to apply SHACL inference rules to a 223 model to add all \"implied\" triples\n",
    "```\n",
    "\n",
    "For this tutorial, we'll use an existing equipment model of a variable air volume (VAV) terminal unit with cooling only from section 4.1 of ASHRAE Guideline 36-2021.\n",
    "This and other example models are available from [Open223 Models](open223-resources).\n",
    "\n",
    "## What are SHACL Rules?\n",
    "\n",
    "[SHACL rules](https://www.w3.org/TR/shacl-af/#rules) add implied information to graphs if certain conditions are met, i.e. if certain triples exist in the source graph.\n",
    "The process of applying rules to an input model to generate new information (triples) is called *inference*.\n",
    "Inference makes models easier to write because the model author does not have to manually include all the triples necessary to support the desired queries;\n",
    "instead, some of those useful triples can be added \"automatically\" to the model through the use of inferencing.\n",
    "One way to think of inference is a way of normalizing a 223 model.\n",
    "Inference assures that the expected properties, types, and other annotations are present so that consumers of the model can make assumptions about what information will be contained within the graph.\n",
    "\n",
    "## Model Parsing\n",
    "\n",
    "First, we'll create a new empty graph then parse (load) an existing graph into it using the Python RDFLib library."
   ]
  },
  {
   "cell_type": "code",
   "execution_count": 1,
   "id": "cb2aaa92",
   "metadata": {},
   "outputs": [
    {
     "ename": "HTTPError",
     "evalue": "HTTP Error 404: Not Found",
     "output_type": "error",
     "traceback": [
      "\u001b[0;31m---------------------------------------------------------------------------\u001b[0m",
      "\u001b[0;31mHTTPError\u001b[0m                                 Traceback (most recent call last)",
      "Cell \u001b[0;32mIn[1], line 5\u001b[0m\n\u001b[1;32m      3\u001b[0m model \u001b[38;5;241m=\u001b[39m Graph()\n\u001b[1;32m      4\u001b[0m \u001b[38;5;66;03m# Parse in an RDF file hosted on the Internet\u001b[39;00m\n\u001b[0;32m----> 5\u001b[0m \u001b[43mmodel\u001b[49m\u001b[38;5;241;43m.\u001b[39;49m\u001b[43mparse\u001b[49m\u001b[43m(\u001b[49m\u001b[38;5;124;43m\"\u001b[39;49m\u001b[38;5;124;43mhttps://models.open223.info/guideline36-2021-4-1.ttl\u001b[39;49m\u001b[38;5;124;43m\"\u001b[39;49m\u001b[43m,\u001b[49m\u001b[43m \u001b[49m\u001b[38;5;28;43mformat\u001b[39;49m\u001b[38;5;241;43m=\u001b[39;49m\u001b[38;5;124;43m\"\u001b[39;49m\u001b[38;5;124;43mttl\u001b[39;49m\u001b[38;5;124;43m\"\u001b[39;49m\u001b[43m)\u001b[49m\n\u001b[1;32m      6\u001b[0m \u001b[38;5;28mprint\u001b[39m(\u001b[38;5;124mf\u001b[39m\u001b[38;5;124m\"\u001b[39m\u001b[38;5;124mThe model contains \u001b[39m\u001b[38;5;132;01m{\u001b[39;00m\u001b[38;5;28mlen\u001b[39m(model)\u001b[38;5;132;01m}\u001b[39;00m\u001b[38;5;124m triples\u001b[39m\u001b[38;5;124m\"\u001b[39m)\n",
      "File \u001b[0;32m/opt/hostedtoolcache/Python/3.11.10/x64/lib/python3.11/site-packages/rdflib/graph.py:1468\u001b[0m, in \u001b[0;36mGraph.parse\u001b[0;34m(self, source, publicID, format, location, file, data, **args)\u001b[0m\n\u001b[1;32m   1373\u001b[0m \u001b[38;5;28;01mdef\u001b[39;00m \u001b[38;5;21mparse\u001b[39m(\n\u001b[1;32m   1374\u001b[0m     \u001b[38;5;28mself\u001b[39m,\n\u001b[1;32m   1375\u001b[0m     source: Optional[\n\u001b[0;32m   (...)\u001b[0m\n\u001b[1;32m   1383\u001b[0m     \u001b[38;5;241m*\u001b[39m\u001b[38;5;241m*\u001b[39margs: Any,\n\u001b[1;32m   1384\u001b[0m ) \u001b[38;5;241m-\u001b[39m\u001b[38;5;241m>\u001b[39m \u001b[38;5;124m\"\u001b[39m\u001b[38;5;124mGraph\u001b[39m\u001b[38;5;124m\"\u001b[39m:\n\u001b[1;32m   1385\u001b[0m \u001b[38;5;250m    \u001b[39m\u001b[38;5;124;03m\"\"\"\u001b[39;00m\n\u001b[1;32m   1386\u001b[0m \u001b[38;5;124;03m    Parse an RDF source adding the resulting triples to the Graph.\u001b[39;00m\n\u001b[1;32m   1387\u001b[0m \n\u001b[0;32m   (...)\u001b[0m\n\u001b[1;32m   1465\u001b[0m \n\u001b[1;32m   1466\u001b[0m \u001b[38;5;124;03m    \"\"\"\u001b[39;00m\n\u001b[0;32m-> 1468\u001b[0m     source \u001b[38;5;241m=\u001b[39m \u001b[43mcreate_input_source\u001b[49m\u001b[43m(\u001b[49m\n\u001b[1;32m   1469\u001b[0m \u001b[43m        \u001b[49m\u001b[43msource\u001b[49m\u001b[38;5;241;43m=\u001b[39;49m\u001b[43msource\u001b[49m\u001b[43m,\u001b[49m\n\u001b[1;32m   1470\u001b[0m \u001b[43m        \u001b[49m\u001b[43mpublicID\u001b[49m\u001b[38;5;241;43m=\u001b[39;49m\u001b[43mpublicID\u001b[49m\u001b[43m,\u001b[49m\n\u001b[1;32m   1471\u001b[0m \u001b[43m        \u001b[49m\u001b[43mlocation\u001b[49m\u001b[38;5;241;43m=\u001b[39;49m\u001b[43mlocation\u001b[49m\u001b[43m,\u001b[49m\n\u001b[1;32m   1472\u001b[0m \u001b[43m        \u001b[49m\u001b[43mfile\u001b[49m\u001b[38;5;241;43m=\u001b[39;49m\u001b[43mfile\u001b[49m\u001b[43m,\u001b[49m\n\u001b[1;32m   1473\u001b[0m \u001b[43m        \u001b[49m\u001b[43mdata\u001b[49m\u001b[38;5;241;43m=\u001b[39;49m\u001b[43mdata\u001b[49m\u001b[43m,\u001b[49m\n\u001b[1;32m   1474\u001b[0m \u001b[43m        \u001b[49m\u001b[38;5;28;43mformat\u001b[39;49m\u001b[38;5;241;43m=\u001b[39;49m\u001b[38;5;28;43mformat\u001b[39;49m\u001b[43m,\u001b[49m\n\u001b[1;32m   1475\u001b[0m \u001b[43m    \u001b[49m\u001b[43m)\u001b[49m\n\u001b[1;32m   1476\u001b[0m     \u001b[38;5;28;01mif\u001b[39;00m \u001b[38;5;28mformat\u001b[39m \u001b[38;5;129;01mis\u001b[39;00m \u001b[38;5;28;01mNone\u001b[39;00m:\n\u001b[1;32m   1477\u001b[0m         \u001b[38;5;28mformat\u001b[39m \u001b[38;5;241m=\u001b[39m source\u001b[38;5;241m.\u001b[39mcontent_type\n",
      "File \u001b[0;32m/opt/hostedtoolcache/Python/3.11.10/x64/lib/python3.11/site-packages/rdflib/parser.py:401\u001b[0m, in \u001b[0;36mcreate_input_source\u001b[0;34m(source, publicID, location, file, data, format)\u001b[0m\n\u001b[1;32m    394\u001b[0m         \u001b[38;5;28;01massert\u001b[39;00m data \u001b[38;5;129;01mis\u001b[39;00m \u001b[38;5;28;01mNone\u001b[39;00m\n\u001b[1;32m    395\u001b[0m         \u001b[38;5;28;01massert\u001b[39;00m source \u001b[38;5;129;01mis\u001b[39;00m \u001b[38;5;28;01mNone\u001b[39;00m\n\u001b[1;32m    396\u001b[0m     (\n\u001b[1;32m    397\u001b[0m         absolute_location,\n\u001b[1;32m    398\u001b[0m         auto_close,\n\u001b[1;32m    399\u001b[0m         file,\n\u001b[1;32m    400\u001b[0m         input_source,\n\u001b[0;32m--> 401\u001b[0m     ) \u001b[38;5;241m=\u001b[39m \u001b[43m_create_input_source_from_location\u001b[49m\u001b[43m(\u001b[49m\n\u001b[1;32m    402\u001b[0m \u001b[43m        \u001b[49m\u001b[43mfile\u001b[49m\u001b[38;5;241;43m=\u001b[39;49m\u001b[43mfile\u001b[49m\u001b[43m,\u001b[49m\n\u001b[1;32m    403\u001b[0m \u001b[43m        \u001b[49m\u001b[38;5;28;43mformat\u001b[39;49m\u001b[38;5;241;43m=\u001b[39;49m\u001b[38;5;28;43mformat\u001b[39;49m\u001b[43m,\u001b[49m\n\u001b[1;32m    404\u001b[0m \u001b[43m        \u001b[49m\u001b[43minput_source\u001b[49m\u001b[38;5;241;43m=\u001b[39;49m\u001b[43minput_source\u001b[49m\u001b[43m,\u001b[49m\n\u001b[1;32m    405\u001b[0m \u001b[43m        \u001b[49m\u001b[43mlocation\u001b[49m\u001b[38;5;241;43m=\u001b[39;49m\u001b[43mlocation\u001b[49m\u001b[43m,\u001b[49m\n\u001b[1;32m    406\u001b[0m \u001b[43m    \u001b[49m\u001b[43m)\u001b[49m\n\u001b[1;32m    408\u001b[0m \u001b[38;5;28;01mif\u001b[39;00m file \u001b[38;5;129;01mis\u001b[39;00m \u001b[38;5;129;01mnot\u001b[39;00m \u001b[38;5;28;01mNone\u001b[39;00m:\n\u001b[1;32m    409\u001b[0m     \u001b[38;5;28;01mif\u001b[39;00m TYPE_CHECKING:\n",
      "File \u001b[0;32m/opt/hostedtoolcache/Python/3.11.10/x64/lib/python3.11/site-packages/rdflib/parser.py:463\u001b[0m, in \u001b[0;36m_create_input_source_from_location\u001b[0;34m(file, format, input_source, location)\u001b[0m\n\u001b[1;32m    461\u001b[0m     file \u001b[38;5;241m=\u001b[39m \u001b[38;5;28mopen\u001b[39m(filename, \u001b[38;5;124m\"\u001b[39m\u001b[38;5;124mrb\u001b[39m\u001b[38;5;124m\"\u001b[39m)\n\u001b[1;32m    462\u001b[0m \u001b[38;5;28;01melse\u001b[39;00m:\n\u001b[0;32m--> 463\u001b[0m     input_source \u001b[38;5;241m=\u001b[39m \u001b[43mURLInputSource\u001b[49m\u001b[43m(\u001b[49m\u001b[43mabsolute_location\u001b[49m\u001b[43m,\u001b[49m\u001b[43m \u001b[49m\u001b[38;5;28;43mformat\u001b[39;49m\u001b[43m)\u001b[49m\n\u001b[1;32m    465\u001b[0m auto_close \u001b[38;5;241m=\u001b[39m \u001b[38;5;28;01mTrue\u001b[39;00m\n\u001b[1;32m    466\u001b[0m \u001b[38;5;66;03m# publicID = publicID or absolute_location  # Further to fix\u001b[39;00m\n\u001b[1;32m    467\u001b[0m \u001b[38;5;66;03m# for issue 130\u001b[39;00m\n",
      "File \u001b[0;32m/opt/hostedtoolcache/Python/3.11.10/x64/lib/python3.11/site-packages/rdflib/parser.py:270\u001b[0m, in \u001b[0;36mURLInputSource.__init__\u001b[0;34m(self, system_id, format)\u001b[0m\n\u001b[1;32m    266\u001b[0m     myheaders[\u001b[38;5;124m\"\u001b[39m\u001b[38;5;124mAccept\u001b[39m\u001b[38;5;124m\"\u001b[39m] \u001b[38;5;241m=\u001b[39m \u001b[38;5;124m\"\u001b[39m\u001b[38;5;124m, \u001b[39m\u001b[38;5;124m\"\u001b[39m\u001b[38;5;241m.\u001b[39mjoin(acc)\n\u001b[1;32m    268\u001b[0m req \u001b[38;5;241m=\u001b[39m Request(system_id, \u001b[38;5;28;01mNone\u001b[39;00m, myheaders)  \u001b[38;5;66;03m# type: ignore[arg-type]\u001b[39;00m\n\u001b[0;32m--> 270\u001b[0m response: addinfourl \u001b[38;5;241m=\u001b[39m \u001b[43m_urlopen\u001b[49m\u001b[43m(\u001b[49m\u001b[43mreq\u001b[49m\u001b[43m)\u001b[49m\n\u001b[1;32m    271\u001b[0m \u001b[38;5;28mself\u001b[39m\u001b[38;5;241m.\u001b[39murl \u001b[38;5;241m=\u001b[39m response\u001b[38;5;241m.\u001b[39mgeturl()  \u001b[38;5;66;03m# in case redirections took place\u001b[39;00m\n\u001b[1;32m    272\u001b[0m \u001b[38;5;28mself\u001b[39m\u001b[38;5;241m.\u001b[39mlinks \u001b[38;5;241m=\u001b[39m \u001b[38;5;28mself\u001b[39m\u001b[38;5;241m.\u001b[39mget_links(response)\n",
      "File \u001b[0;32m/opt/hostedtoolcache/Python/3.11.10/x64/lib/python3.11/site-packages/rdflib/_networking.py:106\u001b[0m, in \u001b[0;36m_urlopen\u001b[0;34m(request)\u001b[0m\n\u001b[1;32m     95\u001b[0m \u001b[38;5;250m\u001b[39m\u001b[38;5;124;03m\"\"\"\u001b[39;00m\n\u001b[1;32m     96\u001b[0m \u001b[38;5;124;03mThis is a shim for `urlopen` that handles HTTP redirects with status code\u001b[39;00m\n\u001b[1;32m     97\u001b[0m \u001b[38;5;124;03m308 (Permanent Redirect).\u001b[39;00m\n\u001b[0;32m   (...)\u001b[0m\n\u001b[1;32m    103\u001b[0m \u001b[38;5;124;03m:return: The response to the request.\u001b[39;00m\n\u001b[1;32m    104\u001b[0m \u001b[38;5;124;03m\"\"\"\u001b[39;00m\n\u001b[1;32m    105\u001b[0m \u001b[38;5;28;01mtry\u001b[39;00m:\n\u001b[0;32m--> 106\u001b[0m     \u001b[38;5;28;01mreturn\u001b[39;00m \u001b[43murlopen\u001b[49m\u001b[43m(\u001b[49m\u001b[43mrequest\u001b[49m\u001b[43m)\u001b[49m\n\u001b[1;32m    107\u001b[0m \u001b[38;5;28;01mexcept\u001b[39;00m HTTPError \u001b[38;5;28;01mas\u001b[39;00m error:\n\u001b[1;32m    108\u001b[0m     \u001b[38;5;28;01mif\u001b[39;00m error\u001b[38;5;241m.\u001b[39mcode \u001b[38;5;241m==\u001b[39m \u001b[38;5;241m308\u001b[39m \u001b[38;5;129;01mand\u001b[39;00m sys\u001b[38;5;241m.\u001b[39mversion_info \u001b[38;5;241m<\u001b[39m (\u001b[38;5;241m3\u001b[39m, \u001b[38;5;241m11\u001b[39m):\n\u001b[1;32m    109\u001b[0m         \u001b[38;5;66;03m# HTTP response code 308 (Permanent Redirect) is not supported by python\u001b[39;00m\n\u001b[1;32m    110\u001b[0m         \u001b[38;5;66;03m# versions older than 3.11. See <https://bugs.python.org/issue40321> and\u001b[39;00m\n\u001b[1;32m    111\u001b[0m         \u001b[38;5;66;03m# <https://github.com/python/cpython/issues/84501> for more details.\u001b[39;00m\n\u001b[1;32m    112\u001b[0m         \u001b[38;5;66;03m# This custom error handling should be removed once all supported\u001b[39;00m\n\u001b[1;32m    113\u001b[0m         \u001b[38;5;66;03m# versions of Python handles 308.\u001b[39;00m\n",
      "File \u001b[0;32m/opt/hostedtoolcache/Python/3.11.10/x64/lib/python3.11/urllib/request.py:216\u001b[0m, in \u001b[0;36murlopen\u001b[0;34m(url, data, timeout, cafile, capath, cadefault, context)\u001b[0m\n\u001b[1;32m    214\u001b[0m \u001b[38;5;28;01melse\u001b[39;00m:\n\u001b[1;32m    215\u001b[0m     opener \u001b[38;5;241m=\u001b[39m _opener\n\u001b[0;32m--> 216\u001b[0m \u001b[38;5;28;01mreturn\u001b[39;00m \u001b[43mopener\u001b[49m\u001b[38;5;241;43m.\u001b[39;49m\u001b[43mopen\u001b[49m\u001b[43m(\u001b[49m\u001b[43murl\u001b[49m\u001b[43m,\u001b[49m\u001b[43m \u001b[49m\u001b[43mdata\u001b[49m\u001b[43m,\u001b[49m\u001b[43m \u001b[49m\u001b[43mtimeout\u001b[49m\u001b[43m)\u001b[49m\n",
      "File \u001b[0;32m/opt/hostedtoolcache/Python/3.11.10/x64/lib/python3.11/urllib/request.py:525\u001b[0m, in \u001b[0;36mOpenerDirector.open\u001b[0;34m(self, fullurl, data, timeout)\u001b[0m\n\u001b[1;32m    523\u001b[0m \u001b[38;5;28;01mfor\u001b[39;00m processor \u001b[38;5;129;01min\u001b[39;00m \u001b[38;5;28mself\u001b[39m\u001b[38;5;241m.\u001b[39mprocess_response\u001b[38;5;241m.\u001b[39mget(protocol, []):\n\u001b[1;32m    524\u001b[0m     meth \u001b[38;5;241m=\u001b[39m \u001b[38;5;28mgetattr\u001b[39m(processor, meth_name)\n\u001b[0;32m--> 525\u001b[0m     response \u001b[38;5;241m=\u001b[39m \u001b[43mmeth\u001b[49m\u001b[43m(\u001b[49m\u001b[43mreq\u001b[49m\u001b[43m,\u001b[49m\u001b[43m \u001b[49m\u001b[43mresponse\u001b[49m\u001b[43m)\u001b[49m\n\u001b[1;32m    527\u001b[0m \u001b[38;5;28;01mreturn\u001b[39;00m response\n",
      "File \u001b[0;32m/opt/hostedtoolcache/Python/3.11.10/x64/lib/python3.11/urllib/request.py:634\u001b[0m, in \u001b[0;36mHTTPErrorProcessor.http_response\u001b[0;34m(self, request, response)\u001b[0m\n\u001b[1;32m    631\u001b[0m \u001b[38;5;66;03m# According to RFC 2616, \"2xx\" code indicates that the client's\u001b[39;00m\n\u001b[1;32m    632\u001b[0m \u001b[38;5;66;03m# request was successfully received, understood, and accepted.\u001b[39;00m\n\u001b[1;32m    633\u001b[0m \u001b[38;5;28;01mif\u001b[39;00m \u001b[38;5;129;01mnot\u001b[39;00m (\u001b[38;5;241m200\u001b[39m \u001b[38;5;241m<\u001b[39m\u001b[38;5;241m=\u001b[39m code \u001b[38;5;241m<\u001b[39m \u001b[38;5;241m300\u001b[39m):\n\u001b[0;32m--> 634\u001b[0m     response \u001b[38;5;241m=\u001b[39m \u001b[38;5;28;43mself\u001b[39;49m\u001b[38;5;241;43m.\u001b[39;49m\u001b[43mparent\u001b[49m\u001b[38;5;241;43m.\u001b[39;49m\u001b[43merror\u001b[49m\u001b[43m(\u001b[49m\n\u001b[1;32m    635\u001b[0m \u001b[43m        \u001b[49m\u001b[38;5;124;43m'\u001b[39;49m\u001b[38;5;124;43mhttp\u001b[39;49m\u001b[38;5;124;43m'\u001b[39;49m\u001b[43m,\u001b[49m\u001b[43m \u001b[49m\u001b[43mrequest\u001b[49m\u001b[43m,\u001b[49m\u001b[43m \u001b[49m\u001b[43mresponse\u001b[49m\u001b[43m,\u001b[49m\u001b[43m \u001b[49m\u001b[43mcode\u001b[49m\u001b[43m,\u001b[49m\u001b[43m \u001b[49m\u001b[43mmsg\u001b[49m\u001b[43m,\u001b[49m\u001b[43m \u001b[49m\u001b[43mhdrs\u001b[49m\u001b[43m)\u001b[49m\n\u001b[1;32m    637\u001b[0m \u001b[38;5;28;01mreturn\u001b[39;00m response\n",
      "File \u001b[0;32m/opt/hostedtoolcache/Python/3.11.10/x64/lib/python3.11/urllib/request.py:563\u001b[0m, in \u001b[0;36mOpenerDirector.error\u001b[0;34m(self, proto, *args)\u001b[0m\n\u001b[1;32m    561\u001b[0m \u001b[38;5;28;01mif\u001b[39;00m http_err:\n\u001b[1;32m    562\u001b[0m     args \u001b[38;5;241m=\u001b[39m (\u001b[38;5;28mdict\u001b[39m, \u001b[38;5;124m'\u001b[39m\u001b[38;5;124mdefault\u001b[39m\u001b[38;5;124m'\u001b[39m, \u001b[38;5;124m'\u001b[39m\u001b[38;5;124mhttp_error_default\u001b[39m\u001b[38;5;124m'\u001b[39m) \u001b[38;5;241m+\u001b[39m orig_args\n\u001b[0;32m--> 563\u001b[0m     \u001b[38;5;28;01mreturn\u001b[39;00m \u001b[38;5;28;43mself\u001b[39;49m\u001b[38;5;241;43m.\u001b[39;49m\u001b[43m_call_chain\u001b[49m\u001b[43m(\u001b[49m\u001b[38;5;241;43m*\u001b[39;49m\u001b[43margs\u001b[49m\u001b[43m)\u001b[49m\n",
      "File \u001b[0;32m/opt/hostedtoolcache/Python/3.11.10/x64/lib/python3.11/urllib/request.py:496\u001b[0m, in \u001b[0;36mOpenerDirector._call_chain\u001b[0;34m(self, chain, kind, meth_name, *args)\u001b[0m\n\u001b[1;32m    494\u001b[0m \u001b[38;5;28;01mfor\u001b[39;00m handler \u001b[38;5;129;01min\u001b[39;00m handlers:\n\u001b[1;32m    495\u001b[0m     func \u001b[38;5;241m=\u001b[39m \u001b[38;5;28mgetattr\u001b[39m(handler, meth_name)\n\u001b[0;32m--> 496\u001b[0m     result \u001b[38;5;241m=\u001b[39m \u001b[43mfunc\u001b[49m\u001b[43m(\u001b[49m\u001b[38;5;241;43m*\u001b[39;49m\u001b[43margs\u001b[49m\u001b[43m)\u001b[49m\n\u001b[1;32m    497\u001b[0m     \u001b[38;5;28;01mif\u001b[39;00m result \u001b[38;5;129;01mis\u001b[39;00m \u001b[38;5;129;01mnot\u001b[39;00m \u001b[38;5;28;01mNone\u001b[39;00m:\n\u001b[1;32m    498\u001b[0m         \u001b[38;5;28;01mreturn\u001b[39;00m result\n",
      "File \u001b[0;32m/opt/hostedtoolcache/Python/3.11.10/x64/lib/python3.11/urllib/request.py:643\u001b[0m, in \u001b[0;36mHTTPDefaultErrorHandler.http_error_default\u001b[0;34m(self, req, fp, code, msg, hdrs)\u001b[0m\n\u001b[1;32m    642\u001b[0m \u001b[38;5;28;01mdef\u001b[39;00m \u001b[38;5;21mhttp_error_default\u001b[39m(\u001b[38;5;28mself\u001b[39m, req, fp, code, msg, hdrs):\n\u001b[0;32m--> 643\u001b[0m     \u001b[38;5;28;01mraise\u001b[39;00m HTTPError(req\u001b[38;5;241m.\u001b[39mfull_url, code, msg, hdrs, fp)\n",
      "\u001b[0;31mHTTPError\u001b[0m: HTTP Error 404: Not Found"
     ]
    }
   ],
   "source": [
    "from rdflib import Graph\n",
    "# Create a Graph\n",
    "model = Graph()\n",
    "# Parse in an RDF file hosted on the Internet\n",
    "model.parse(\"https://models.open223.info/guideline36-2021-4-1.ttl\", format=\"ttl\")\n",
    "print(f\"The model contains {len(model)} triples\")"
   ]
  },
  {
   "cell_type": "markdown",
   "id": "c064807c",
   "metadata": {},
   "source": [
    "<details>\n",
    "<summary>Turtle representation of the model (pre-inference)</summary>"
   ]
  },
  {
   "cell_type": "code",
   "execution_count": null,
   "id": "beafdeed",
   "metadata": {},
   "outputs": [],
   "source": [
    "print(model.serialize())"
   ]
  },
  {
   "cell_type": "markdown",
   "id": "913f5c48",
   "metadata": {},
   "source": [
    "</details>\n",
    "\n",
    "### Testing the Model (Failed Query)\n",
    "\n",
    "Below, we try to run a simple query on our model which asks what the damper in the terminal unit is connected to.\n",
    "The `s223:connected` relationship does not exist in the pre-inference model, so this query will not return results."
   ]
  },
  {
   "cell_type": "code",
   "execution_count": null,
   "id": "00ac05cb",
   "metadata": {},
   "outputs": [],
   "source": [
    "parts_query = \"\"\"\n",
    "PREFIX bldg: <urn:ex/>\n",
    "PREFIX s223: <http://data.ashrae.org/standard223#>\n",
    "SELECT ?parts WHERE {\n",
    "    bldg:vav-cooling-only s223:contains ?damper .\n",
    "    ?damper s223:connected ?parts\n",
    "}\"\"\"\n",
    "\n",
    "for row in model.query(parts_query):\n",
    "    print('\\t'.join(row))"
   ]
  },
  {
   "cell_type": "markdown",
   "id": "679d9231",
   "metadata": {},
   "source": [
    "## Loading the 223 Ontology\n",
    "\n",
    "The 223 ontology contains the rules we will use for inference.\n",
    "We will load the 223 ontology into a separate graph from the model.\n",
    "This is mostly for maintenance: it is easy enough to merge two graphs together into one, but it is much harder to factor them out again.\n",
    "By keeping the ontology graph separate from the model graph, we can more easily maintain and version those graphs individually."
   ]
  },
  {
   "cell_type": "code",
   "execution_count": null,
   "id": "4c37915d",
   "metadata": {},
   "outputs": [],
   "source": [
    "from rdflib import Graph\n",
    "# Create a Graph\n",
    "s223 = Graph()\n",
    "# Parse in a recent copy of the 223 ontology\n",
    "s223.parse(\"https://query.open223.info/ontologies/223p.ttl\")"
   ]
  },
  {
   "cell_type": "markdown",
   "id": "6d54cb19",
   "metadata": {},
   "source": [
    "## Applying Inference Rules\n",
    "\n",
    "To apply inference rules, we need an *inference engine*.\n",
    "This is a piece of software which knows how to properly interpret and apply the SHACL rules defined in an ontology.\n",
    "There are multiple closed-source and open-source implementations of SHACL available; some of these are listed on [this page](other-resources)\n",
    "Below, we will be using the open-source [PySHACL](https://github.com/RDFLib/pySHACL) library.\n",
    "\n",
    "We import the PySHACL library and then invoke the `validate` function on our model graph (*data graph* in PySHACL parlance)\n",
    "and our 223 graph (*shape graph* in PySHACL parlance)."
   ]
  },
  {
   "cell_type": "code",
   "execution_count": null,
   "id": "52a80e51",
   "metadata": {},
   "outputs": [],
   "source": [
    "import pyshacl\n",
    "\n",
    "# skolemizing the s223 graph lets us remove blank nodes after inference\n",
    "skolemized_s223 = s223.skolemize()\n",
    "\n",
    "pyshacl.validate(model,\n",
    "    shacl_graph=skolemized_s223,     # pass in the 223 graph object here\n",
    "    ont_graph=skolemized_s223,       # pass in the 223 graph object here\n",
    "    allow_infos=True,     # don't fail if we get an INFO message\n",
    "    allow_warnings=True,  # don't fail if we get a WARNING message\n",
    "    abort_on_first=False, # allow errors to happen during execution\n",
    "    advanced=True,        # allow SHACL rules to execute\n",
    "    inplace=True          # update the 'model' object with the inferred triples\n",
    ")\n",
    "# remove the skolemized s223 graph from the model\n",
    "model -= skolemized_s223\n",
    "# de-skolemize the ret of the model\n",
    "model = model.de_skolemize()\n",
    "print(f\"The model now contains {len(model)} triples\")"
   ]
  },
  {
   "cell_type": "markdown",
   "id": "b548ae2d",
   "metadata": {},
   "source": [
    "This may take a few minutes to run, depending on the size of your model.\n",
    "If the PySHACL library is too slow, we recommend looking at alternate open-source implementations\n",
    "like [TopQuadrant's Java-based implementation](https://github.com/TopQuadrant/shacl).\n",
    "\n",
    "We can see from the print statement that several triples have been added to the model.\n",
    "\n",
    "```{note}\n",
    "The `pyshacl.validate` function actually returns a SHACL validation report which can be used to fix\n",
    "the model and make it compatible with the 223 ontology. See the [Model Validation](model_validation)\n",
    "tutorial for how to access and interpret this report.\n",
    "```\n",
    "\n",
    "<details>\n",
    "<summary>Turtle representation of the model (post-inference)</summary>"
   ]
  },
  {
   "cell_type": "code",
   "execution_count": null,
   "id": "04ff91a8",
   "metadata": {},
   "outputs": [],
   "source": [
    "print(model.serialize())"
   ]
  },
  {
   "cell_type": "markdown",
   "id": "21d31f0d",
   "metadata": {},
   "source": [
    "</details>\n",
    "\n",
    "## Using the New Model\n",
    "\n",
    "To demonstrate that the model contains new triples, we can try re-running the query from before.\n",
    "We can see that the query returns results this time."
   ]
  },
  {
   "cell_type": "code",
   "execution_count": null,
   "id": "7faa1509",
   "metadata": {},
   "outputs": [],
   "source": [
    "query = \"\"\"\n",
    "PREFIX bldg: <urn:ex/>\n",
    "PREFIX s223: <http://data.ashrae.org/standard223#>\n",
    "SELECT ?damper ?part WHERE {\n",
    "    bldg:vav-cooling-only s223:contains ?damper .\n",
    "    ?damper s223:connected ?part\n",
    "}\"\"\"\n",
    "\n",
    "for row in model.query(query):\n",
    "    print(f\"{row.get('damper')} connected to {row.get('part')}\")"
   ]
  }
 ],
 "metadata": {
  "jupytext": {
   "cell_metadata_filter": "-all",
   "formats": "md:myst",
   "text_representation": {
    "extension": ".md",
    "format_name": "myst"
   }
  },
  "kernelspec": {
   "display_name": "Python 3",
   "language": "python",
   "name": "python3"
  },
  "language_info": {
   "codemirror_mode": {
    "name": "ipython",
    "version": 3
   },
   "file_extension": ".py",
   "mimetype": "text/x-python",
   "name": "python",
   "nbconvert_exporter": "python",
   "pygments_lexer": "ipython3",
   "version": "3.11.10"
  },
  "source_map": [
   12,
   39,
   46,
   51,
   53,
   62,
   73,
   82,
   88,
   100,
   120,
   137,
   139,
   148
  ]
 },
 "nbformat": 4,
 "nbformat_minor": 5
}