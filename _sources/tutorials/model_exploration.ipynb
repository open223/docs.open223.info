{
 "cells": [
  {
   "cell_type": "markdown",
   "id": "ff29d4a5",
   "metadata": {},
   "source": [
    "# Model Exploration\n",
    "\n",
    "```{note}\n",
    "The purpose of this tutorial is to explore a model by learning the following:\n",
    "1. Parsing (loading) an existing model\n",
    "2. Querying an existing model.\n",
    "```\n",
    "\n",
    "For this tutorial, we'll use an existing equipment model of a variable air volume (VAV) terminal unit with cooling only from section 4.1 of ASHRAE Guideline 36-2021. This and other example models are available from [Open223 Models](open223-resources).\n",
    "\n",
    "## Model Parsing\n",
    "\n",
    "First, we'll create a new empty graph then parse (load) an existing graph into it using the Python RDFLib library."
   ]
  },
  {
   "cell_type": "code",
   "execution_count": 1,
   "id": "a615f929",
   "metadata": {},
   "outputs": [
    {
     "data": {
      "text/plain": [
       "<Graph identifier=Nd2e4654f44df4c118f15415137fe4d30 (<class 'rdflib.graph.Graph'>)>"
      ]
     },
     "execution_count": 1,
     "metadata": {},
     "output_type": "execute_result"
    }
   ],
   "source": [
    "from rdflib import Graph\n",
    "\n",
    "# Create a Graph\n",
    "g = Graph()\n",
    "\n",
    "# Parse in an RDF file hosted on the Internet\n",
    "g.parse(\"https://models.open223.info/guideline36-2021-A-1.ttl\", format=\"ttl\")"
   ]
  },
  {
   "cell_type": "markdown",
   "id": "3155df2e",
   "metadata": {},
   "source": [
    "Next, we'll explore the model's size by printing the number of triples in it."
   ]
  },
  {
   "cell_type": "code",
   "execution_count": 2,
   "id": "231411dd",
   "metadata": {},
   "outputs": [
    {
     "name": "stdout",
     "output_type": "stream",
     "text": [
      "Graph g has 101 statements.\n"
     ]
    }
   ],
   "source": [
    "# Print the number of \"triples\" in the Graph\n",
    "print(f\"Graph g has {len(g)} statements.\")"
   ]
  },
  {
   "cell_type": "markdown",
   "id": "4a607ecb",
   "metadata": {},
   "source": [
    "Finally, we'll print the contents of the model since it's not that large."
   ]
  },
  {
   "cell_type": "code",
   "execution_count": 3,
   "id": "3c29014a",
   "metadata": {},
   "outputs": [
    {
     "name": "stdout",
     "output_type": "stream",
     "text": [
      "@prefix g36: <http://data.ashrae.org/standard223/1.0/extensions/g36#> .\n",
      "@prefix mysystem1: <http://data.ashrae.org/standard223/1.0/data/guideline36-2021-A-1#> .\n",
      "@prefix owl: <http://www.w3.org/2002/07/owl#> .\n",
      "@prefix qudt: <http://qudt.org/schema/qudt/> .\n",
      "@prefix qudtqk: <http://qudt.org/vocab/quantitykind/> .\n",
      "@prefix rdfs: <http://www.w3.org/2000/01/rdf-schema#> .\n",
      "@prefix s223: <http://data.ashrae.org/standard223#> .\n",
      "@prefix unit: <http://qudt.org/vocab/unit/> .\n",
      "\n",
      "mysystem1: a owl:Ontology ;\n",
      "    rdfs:label \"\" ;\n",
      "    owl:imports <http://data.ashrae.org/standard223/1.0/model/all> .\n",
      "\n",
      "mysystem1:PhysicalSpace a s223:PhysicalSpace ;\n",
      "    rdfs:label \"Physicalspace\" ;\n",
      "    s223:encloses mysystem1:PhysicalSpace-hvac-domain .\n",
      "\n",
      "mysystem1:VAVCoolingOnly a s223:SingleDuctTerminal,\n",
      "        g36:VAV ;\n",
      "    rdfs:label \"Vavcoolingonly\" ;\n",
      "    s223:cnx mysystem1:VAVCoolingOnly-in,\n",
      "        mysystem1:VAVCoolingOnly-out ;\n",
      "    s223:contains mysystem1:VAVCoolingOnly-damper .\n",
      "\n",
      "mysystem1:VAVCoolingOnly-damper-actuator a s223:Actuator ;\n",
      "    rdfs:label \"Vavcoolingonly Damper Actuator\" ;\n",
      "    s223:actuatedByProperty mysystem1:VAVCoolingOnly-damper-command ;\n",
      "    s223:actuates mysystem1:VAVCoolingOnly-damper .\n",
      "\n",
      "mysystem1:VAVCoolingOnly-discharge-air-flow-sensor a s223:Sensor ;\n",
      "    rdfs:label \"Vavcoolingonly Discharge Air Flow Sensor\" ;\n",
      "    s223:hasObservationLocation mysystem1:VAVCoolingOnly-out ;\n",
      "    s223:observes mysystem1:VAVCoolingOnly-discharge-air-flow .\n",
      "\n",
      "mysystem1:VAVCoolingOnly-duct-after-damper a s223:Connection,\n",
      "        s223:Duct ;\n",
      "    rdfs:label \"Vavcoolingonly Duct After Damper\" ;\n",
      "    s223:hasMedium s223:Fluid-Air .\n",
      "\n",
      "mysystem1:VAVCoolingOnly-duct-before-damper a s223:Connection,\n",
      "        s223:Duct ;\n",
      "    rdfs:label \"Vavcoolingonly Duct Before Damper\" ;\n",
      "    s223:hasMedium s223:Fluid-Air .\n",
      "\n",
      "mysystem1:zone a s223:Zone,\n",
      "        g36:Zone ;\n",
      "    rdfs:label \"Zone\" ;\n",
      "    s223:hasDomain s223:Domain-HVAC ;\n",
      "    s223:hasDomainSpace mysystem1:PhysicalSpace-hvac-domain ;\n",
      "    s223:hasProperty mysystem1:zone-co2-concentration,\n",
      "        mysystem1:zone-temp .\n",
      "\n",
      "mysystem1:PhysicalSpace-hvac-domain-in a s223:InletConnectionPoint ;\n",
      "    rdfs:label \"Physicalspace Hvac Domain In\" ;\n",
      "    s223:cnx mysystem1:vav-supply-to-room-connection ;\n",
      "    s223:hasMedium s223:Fluid-Air .\n",
      "\n",
      "mysystem1:PhysicalSpace-hvac-domain-out a s223:OutletConnectionPoint ;\n",
      "    rdfs:label \"Physicalspace Hvac Domain Out\" ;\n",
      "    s223:cnx mysystem1:room-return-to-vav-connection ;\n",
      "    s223:hasMedium s223:Fluid-Air .\n",
      "\n",
      "mysystem1:VAVCoolingOnly-damper-in a s223:InletConnectionPoint ;\n",
      "    rdfs:label \"Vavcoolingonly Damper In\" ;\n",
      "    s223:hasMedium s223:Fluid-Air ;\n",
      "    s223:mapsTo mysystem1:VAVCoolingOnly-in .\n",
      "\n",
      "mysystem1:VAVCoolingOnly-damper-out a s223:OutletConnectionPoint ;\n",
      "    rdfs:label \"Vavcoolingonly Damper Out\" ;\n",
      "    s223:hasMedium s223:Fluid-Air ;\n",
      "    s223:mapsTo mysystem1:VAVCoolingOnly-out .\n",
      "\n",
      "mysystem1:VAVCoolingOnly-damper-position a s223:QuantifiableObservableProperty ;\n",
      "    rdfs:label \"Vavcoolingonly Damper Position\" ;\n",
      "    qudt:hasQuantityKind qudtqk:DimensionlessRatio ;\n",
      "    qudt:hasUnit unit:PERCENT .\n",
      "\n",
      "mysystem1:zone-co2-concentration a s223:QuantifiableObservableProperty ;\n",
      "    rdfs:label \"Zone Co2 Concentration\" ;\n",
      "    s223:ofSubstance s223:Constituent-CO2 ;\n",
      "    qudt:hasQuantityKind qudtqk:MoleFraction ;\n",
      "    qudt:hasUnit unit:PPM .\n",
      "\n",
      "mysystem1:zone-temp a s223:QuantifiableObservableProperty ;\n",
      "    rdfs:label \"Zone Temp\" ;\n",
      "    qudt:hasQuantityKind qudtqk:Temperature ;\n",
      "    qudt:hasUnit unit:DEG_C .\n",
      "\n",
      "mysystem1:PhysicalSpace-hvac-domain a s223:DomainSpace ;\n",
      "    rdfs:label \"Physicalspace Hvac Domain\" ;\n",
      "    s223:cnx mysystem1:PhysicalSpace-hvac-domain-in,\n",
      "        mysystem1:PhysicalSpace-hvac-domain-out ;\n",
      "    s223:hasDomain s223:Domain-HVAC .\n",
      "\n",
      "mysystem1:VAVCoolingOnly-damper a s223:Damper,\n",
      "        g36:Damper ;\n",
      "    rdfs:label \"Vavcoolingonly Damper\" ;\n",
      "    s223:cnx mysystem1:VAVCoolingOnly-damper-in,\n",
      "        mysystem1:VAVCoolingOnly-damper-out ;\n",
      "    s223:hasProperty mysystem1:VAVCoolingOnly-damper-command,\n",
      "        mysystem1:VAVCoolingOnly-damper-position .\n",
      "\n",
      "mysystem1:VAVCoolingOnly-damper-command a s223:QuantifiableActuatableProperty ;\n",
      "    rdfs:label \"Vavcoolingonly Damper Command\" ;\n",
      "    s223:hasAspect s223:EnumerationKind-Position ;\n",
      "    qudt:hasQuantityKind qudtqk:DimensionlessRatio ;\n",
      "    qudt:hasUnit unit:PERCENT .\n",
      "\n",
      "mysystem1:VAVCoolingOnly-discharge-air-flow a s223:QuantifiableObservableProperty ;\n",
      "    rdfs:label \"Vavcoolingonly Discharge Air Flow\" ;\n",
      "    s223:hasAspect s223:Role-Discharge ;\n",
      "    qudt:hasQuantityKind qudtqk:VolumeFlowRate ;\n",
      "    qudt:hasUnit unit:FT3-PER-MIN .\n",
      "\n",
      "mysystem1:VAVCoolingOnly-in a s223:InletConnectionPoint ;\n",
      "    rdfs:label \"Vavcoolingonly In\" ;\n",
      "    s223:cnx mysystem1:room-return-to-vav-connection ;\n",
      "    s223:hasMedium s223:Fluid-Air .\n",
      "\n",
      "mysystem1:room-return-to-vav-connection a s223:Connection ;\n",
      "    rdfs:label \"Room Return To Vav Connection\" ;\n",
      "    s223:hasMedium s223:Fluid-Air .\n",
      "\n",
      "mysystem1:vav-supply-to-room-connection a s223:Connection ;\n",
      "    rdfs:label \"Vav Supply To Room Connection\" ;\n",
      "    s223:hasMedium s223:Fluid-Air .\n",
      "\n",
      "mysystem1:VAVCoolingOnly-out a s223:OutletConnectionPoint ;\n",
      "    rdfs:label \"Vavcoolingonly Out\" ;\n",
      "    s223:cnx mysystem1:vav-supply-to-room-connection ;\n",
      "    s223:hasMedium s223:Fluid-Air ;\n",
      "    s223:hasProperty mysystem1:VAVCoolingOnly-discharge-air-flow .\n",
      "\n",
      "\n"
     ]
    }
   ],
   "source": [
    "# Print out the entire Graph in the RDF Turtle format\n",
    "print(g.serialize(format=\"turtle\"))"
   ]
  },
  {
   "cell_type": "markdown",
   "id": "424a93b0",
   "metadata": {},
   "source": [
    "## Model Querying\n",
    "\n",
    "After exploring the model to get a sense for what it contains, let's query the model using RDFLib (this can also be done with [Open223 Query](open223-resources)). For this tutorial, we'll query the model for all the VAV terminal's points, which are instances of the following classes:\n",
    "\n",
    "[Open223 Explore links](open223-resources):\n",
    "- [QuantifiableActuatableProperty](https://explore.open223.info/s223/QuantifiableActuatableProperty.html)\n",
    "- [QuantifiableObservableProperty](https://explore.open223.info/s223/QuantifiableObservableProperty.html)"
   ]
  },
  {
   "cell_type": "code",
   "execution_count": 4,
   "id": "7293e020",
   "metadata": {},
   "outputs": [
    {
     "name": "stdout",
     "output_type": "stream",
     "text": [
      "(rdflib.term.URIRef('http://data.ashrae.org/standard223/1.0/data/guideline36-2021-A-1#VAVCoolingOnly-damper-command'),)\n",
      "(rdflib.term.URIRef('http://data.ashrae.org/standard223/1.0/data/guideline36-2021-A-1#VAVCoolingOnly-damper-position'),)\n",
      "(rdflib.term.URIRef('http://data.ashrae.org/standard223/1.0/data/guideline36-2021-A-1#zone-co2-concentration'),)\n",
      "(rdflib.term.URIRef('http://data.ashrae.org/standard223/1.0/data/guideline36-2021-A-1#zone-temp'),)\n",
      "(rdflib.term.URIRef('http://data.ashrae.org/standard223/1.0/data/guideline36-2021-A-1#VAVCoolingOnly-discharge-air-flow'),)\n"
     ]
    }
   ],
   "source": [
    "# Query the data in g using SPARQL\n",
    "q = \"\"\"\n",
    "PREFIX s223: <http://data.ashrae.org/standard223#>\n",
    "\n",
    "SELECT ?obj WHERE {\n",
    "  { ?obj a s223:QuantifiableActuatableProperty . }\n",
    "  \tUNION\n",
    "  { ?obj a s223:QuantifiableObservableProperty . }\n",
    "}\n",
    "\"\"\"\n",
    "\n",
    "# Apply the query to the graph and iterate through results\n",
    "for r in g.query(q):\n",
    "    print(r)"
   ]
  }
 ],
 "metadata": {
  "jupytext": {
   "cell_metadata_filter": "-all",
   "formats": "md:myst",
   "text_representation": {
    "extension": ".md",
    "format_name": "myst"
   }
  },
  "kernelspec": {
   "display_name": "open223-book",
   "language": "python",
   "name": "open223-book"
  },
  "language_info": {
   "codemirror_mode": {
    "name": "ipython",
    "version": 3
   },
   "file_extension": ".py",
   "mimetype": "text/x-python",
   "name": "python",
   "nbconvert_exporter": "python",
   "pygments_lexer": "ipython3",
   "version": "3.12.3"
  },
  "source_map": [
   12,
   28,
   36,
   40,
   43,
   47,
   50,
   60
  ]
 },
 "nbformat": 4,
 "nbformat_minor": 5
}